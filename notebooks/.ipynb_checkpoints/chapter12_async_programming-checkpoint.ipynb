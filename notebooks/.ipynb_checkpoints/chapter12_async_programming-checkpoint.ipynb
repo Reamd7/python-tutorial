{
  "cells": [
    {
      "cell_type": "raw",
      "metadata": {
        "vscode": {
          "languageId": "raw"
        }
      },
      "source": [
        "# 第12章：异步编程 (Asyncio)\n",
        "## Asynchronous Programming with asyncio\n",
        "\n",
        "本笔记涵盖 Python 异步编程的核心概念和实践应用。\n",
        "\n",
        "### 学习目标\n",
        "- 理解 async/await 语法和协程概念\n",
        "- 掌握事件循环和并发任务管理\n",
        "- 学会异步HTTP请求和文件操作\n",
        "- 了解异步上下文管理器和生成器\n",
        "- 实践同步和异步代码的集成\n",
        "\n",
        "### 重要概念\n",
        "- **协程 (Coroutines)**: 可以被暂停和恢复的函数\n",
        "- **事件循环 (Event Loop)**: 管理和执行异步任务的核心\n",
        "- **并发 (Concurrency)**: 同时处理多个任务（不一定并行）\n",
        "- **异步上下文管理器**: 支持 async with 语句的对象\n"
      ]
    },
    {
      "cell_type": "code",
      "execution_count": null,
      "metadata": {},
      "outputs": [],
      "source": [
        "# 基础导入和设置\n",
        "import asyncio\n",
        "import time\n",
        "import aiohttp\n",
        "import aiofiles\n",
        "from typing import List, Dict, Any\n",
        "\n",
        "# 检查是否在 Jupyter 环境中\n",
        "import nest_asyncio\n",
        "nest_asyncio.apply()  # 允许在 Jupyter 中运行异步代码\n",
        "\n",
        "print(\"异步编程环境设置完成！\")\n"
      ]
    },
    {
      "cell_type": "raw",
      "metadata": {
        "vscode": {
          "languageId": "raw"
        }
      },
      "source": [
        "## 1. 基础异步函数\n",
        "\n",
        "让我们从最简单的异步函数开始：\n"
      ]
    },
    {
      "cell_type": "code",
      "execution_count": null,
      "metadata": {},
      "outputs": [],
      "source": [
        "# 简单的异步函数\n",
        "async def hello_async():\n",
        "    \"\"\"一个简单的异步函数\"\"\"\n",
        "    print(\"开始异步任务...\")\n",
        "    await asyncio.sleep(1)  # 模拟异步操作\n",
        "    print(\"异步任务完成！\")\n",
        "    return \"Hello, Async World!\"\n",
        "\n",
        "# 运行异步函数\n",
        "result = await hello_async()\n",
        "print(f\"结果: {result}\")\n"
      ]
    },
    {
      "cell_type": "raw",
      "metadata": {
        "vscode": {
          "languageId": "raw"
        }
      },
      "source": [
        "## 2. 并发任务执行\n",
        "\n",
        "异步编程的真正威力在于并发执行多个任务：\n"
      ]
    },
    {
      "cell_type": "code",
      "execution_count": null,
      "metadata": {},
      "outputs": [],
      "source": [
        "# 带延迟的数据获取函数\n",
        "async def fetch_data_with_delay(data: str, delay: float) -> str:\n",
        "    \"\"\"模拟异步数据获取\"\"\"\n",
        "    print(f\"开始获取数据: {data}\")\n",
        "    await asyncio.sleep(delay)  # 模拟网络延迟\n",
        "    result = f\"Data: {data} (delayed {delay}s)\"\n",
        "    print(f\"完成获取: {result}\")\n",
        "    return result\n",
        "\n",
        "# 顺序执行 vs 并发执行对比\n",
        "print(\"=== 顺序执行 ===\")\n",
        "start_time = time.time()\n",
        "\n",
        "result1 = await fetch_data_with_delay(\"任务1\", 1.0)\n",
        "result2 = await fetch_data_with_delay(\"任务2\", 1.0)\n",
        "result3 = await fetch_data_with_delay(\"任务3\", 1.0)\n",
        "\n",
        "sequential_time = time.time() - start_time\n",
        "print(f\"顺序执行耗时: {sequential_time:.2f}秒\\n\")\n",
        "\n",
        "print(\"=== 并发执行 ===\")\n",
        "start_time = time.time()\n",
        "\n",
        "# 创建并发任务\n",
        "tasks = [\n",
        "    fetch_data_with_delay(\"任务A\", 1.0),\n",
        "    fetch_data_with_delay(\"任务B\", 1.0), \n",
        "    fetch_data_with_delay(\"任务C\", 1.0)\n",
        "]\n",
        "\n",
        "# 并发执行所有任务\n",
        "results = await asyncio.gather(*tasks)\n",
        "\n",
        "concurrent_time = time.time() - start_time\n",
        "print(f\"并发执行耗时: {concurrent_time:.2f}秒\")\n",
        "print(f\"性能提升: {sequential_time/concurrent_time:.2f}倍\")\n"
      ]
    },
    {
      "cell_type": "raw",
      "metadata": {
        "vscode": {
          "languageId": "raw"
        }
      },
      "source": [
        "## 3. 异步生成器\n",
        "\n",
        "异步生成器允许我们创建可以异步产生值的生成器：\n"
      ]
    },
    {
      "cell_type": "code",
      "execution_count": null,
      "metadata": {},
      "outputs": [],
      "source": [
        "# 异步生成器示例\n",
        "async def async_range(start: int, stop: int, delay: float = 0.1):\n",
        "    \"\"\"异步生成数字序列\"\"\"\n",
        "    for i in range(start, stop):\n",
        "        print(f\"生成数字: {i}\")\n",
        "        await asyncio.sleep(delay)  # 模拟异步操作\n",
        "        yield i\n",
        "\n",
        "# 使用异步生成器\n",
        "print(\"=== 异步生成器演示 ===\")\n",
        "async for value in async_range(0, 5, 0.2):\n",
        "    print(f\"接收到值: {value}\")\n",
        "\n",
        "print(\"\\n=== 收集异步生成器的所有值 ===\")\n",
        "async def collect_async_values():\n",
        "    values = []\n",
        "    async for value in async_range(10, 15, 0.1):\n",
        "        values.append(value)\n",
        "    return values\n",
        "\n",
        "collected = await collect_async_values()\n",
        "print(f\"收集的值: {collected}\")\n"
      ]
    },
    {
      "cell_type": "raw",
      "metadata": {
        "vscode": {
          "languageId": "raw"
        }
      },
      "source": [
        "## 4. 异步上下文管理器\n",
        "\n",
        "异步上下文管理器支持 `async with` 语句，用于管理异步资源：\n"
      ]
    },
    {
      "cell_type": "code",
      "execution_count": null,
      "metadata": {},
      "outputs": [],
      "source": [
        "# 异步上下文管理器\n",
        "class AsyncTimer:\n",
        "    \"\"\"异步计时器上下文管理器\"\"\"\n",
        "    \n",
        "    def __init__(self):\n",
        "        self.start_time = None\n",
        "        self.execution_time = None\n",
        "    \n",
        "    async def __aenter__(self):\n",
        "        print(\"开始计时...\")\n",
        "        self.start_time = time.time()\n",
        "        return self\n",
        "    \n",
        "    async def __aexit__(self, exc_type, exc_val, exc_tb):\n",
        "        self.execution_time = time.time() - self.start_time\n",
        "        print(f\"执行完成，耗时: {self.execution_time:.2f}秒\")\n",
        "        return False\n",
        "\n",
        "# 使用异步上下文管理器\n",
        "async def demo_async_context_manager():\n",
        "    async with AsyncTimer() as timer:\n",
        "        print(\"执行一些异步操作...\")\n",
        "        await asyncio.sleep(1.5)\n",
        "        await fetch_data_with_delay(\"测试数据\", 0.5)\n",
        "    \n",
        "    print(f\"总执行时间: {timer.execution_time:.2f}秒\")\n",
        "\n",
        "await demo_async_context_manager()\n"
      ]
    },
    {
      "cell_type": "code",
      "execution_count": null,
      "metadata": {},
      "outputs": [],
      "source": [
        "# 异步上下文管理器\n",
        "class AsyncTimer:\n",
        "    \"\"\"异步计时器上下文管理器\"\"\"\n",
        "    \n",
        "    def __init__(self):\n",
        "        self.start_time = None\n",
        "        self.execution_time = None\n",
        "    \n",
        "    async def __aenter__(self):\n",
        "        print(\"开始计时...\")\n",
        "        self.start_time = time.time()\n",
        "        return self\n",
        "    \n",
        "    async def __aexit__(self, exc_type, exc_val, exc_tb):\n",
        "        self.execution_time = time.time() - self.start_time\n",
        "        print(f\"执行完成，耗时: {self.execution_time:.2f}秒\")\n",
        "        return False\n",
        "\n",
        "# 使用异步上下文管理器\n",
        "async def demo_async_context_manager():\n",
        "    async with AsyncTimer() as timer:\n",
        "        print(\"执行一些异步操作...\")\n",
        "        await asyncio.sleep(1.5)\n",
        "        await fetch_data_with_delay(\"测试数据\", 0.5)\n",
        "    \n",
        "    print(f\"总执行时间: {timer.execution_time:.2f}秒\")\n",
        "\n",
        "await demo_async_context_manager()\n"
      ]
    },
    {
      "cell_type": "raw",
      "metadata": {
        "vscode": {
          "languageId": "raw"
        }
      },
      "source": [
        "## 4. 异步上下文管理器\n",
        "\n",
        "异步上下文管理器支持 `async with` 语句，用于管理异步资源：\n"
      ]
    }
  ],
  "metadata": {
    "language_info": {
      "name": "python"
    }
  },
  "nbformat": 4,
  "nbformat_minor": 2
}
