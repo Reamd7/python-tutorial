{
  "cells": [
    {
      "cell_type": "raw",
      "metadata": {
        "vscode": {
          "languageId": "raw"
        }
      },
      "source": [
        "# 第15章：高级装饰器 (Advanced Decorators)\n",
        "## Advanced Decorator Patterns and Applications\n",
        "\n",
        "本笔记深入探讨 Python 装饰器的高级用法和实际应用模式。\n",
        "\n",
        "### 学习目标\n",
        "- 掌握装饰器工厂和参数化装饰器\n",
        "- 学习性能监控、缓存、重试等实用装饰器\n",
        "- 理解类装饰器和异步装饰器\n",
        "- 实践装饰器组合和链式应用\n",
        "\n",
        "### 装饰器的强大之处\n",
        "- **横切关注点**: 日志、缓存、认证等\n",
        "- **代码复用**: 避免重复的样板代码\n",
        "- **松耦合**: 不修改原有代码添加功能\n",
        "- **可组合性**: 多个装饰器可以叠加使用\n"
      ]
    }
  ],
  "metadata": {
    "language_info": {
      "name": "python"
    }
  },
  "nbformat": 4,
  "nbformat_minor": 2
}
