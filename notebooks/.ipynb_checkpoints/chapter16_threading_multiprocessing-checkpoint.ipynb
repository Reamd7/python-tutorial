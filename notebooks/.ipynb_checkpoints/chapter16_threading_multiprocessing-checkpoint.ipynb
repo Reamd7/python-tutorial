{
  "cells": [
    {
      "cell_type": "raw",
      "metadata": {
        "vscode": {
          "languageId": "raw"
        }
      },
      "source": [
        "# 第16章：线程和多进程 (Threading & Multiprocessing)\n",
        "## Threading and Multiprocessing for Concurrent Programming\n",
        "\n",
        "本笔记介绍 Python 中的并发编程技术，包括线程和多进程。\n",
        "\n",
        "### 学习目标\n",
        "- 理解线程和进程的区别\n",
        "- 掌握线程同步机制\n",
        "- 学习多进程编程和进程间通信\n",
        "- 实践性能优化和并发模式\n",
        "\n",
        "### 并发编程概念\n",
        "- **线程**: 轻量级并发，共享内存空间\n",
        "- **进程**: 重量级并发，独立内存空间\n",
        "- **GIL**: Python 全局解释器锁的影响\n",
        "- **同步**: 线程/进程间的协调机制\n"
      ]
    },
    {
      "cell_type": "raw",
      "metadata": {
        "vscode": {
          "languageId": "raw"
        }
      },
      "source": [
        "# 第16章：线程和多进程 (Threading & Multiprocessing)\n",
        "## Threading and Multiprocessing for Concurrent Programming\n",
        "\n",
        "本笔记介绍 Python 中的并发编程技术，包括线程和多进程。\n",
        "\n",
        "### 学习目标\n",
        "- 理解线程和进程的区别\n",
        "- 掌握线程同步机制\n",
        "- 学习多进程编程和进程间通信\n",
        "- 实践性能优化和并发模式\n",
        "\n",
        "### 并发编程概念\n",
        "- **线程**: 轻量级并发，共享内存空间\n",
        "- **进程**: 重量级并发，独立内存空间\n",
        "- **GIL**: Python 全局解释器锁的影响\n",
        "- **同步**: 线程/进程间的协调机制\n"
      ]
    }
  ],
  "metadata": {
    "language_info": {
      "name": "python"
    }
  },
  "nbformat": 4,
  "nbformat_minor": 2
}
