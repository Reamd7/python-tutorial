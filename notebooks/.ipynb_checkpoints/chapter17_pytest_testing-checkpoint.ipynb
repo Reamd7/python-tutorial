{
  "cells": [
    {
      "cell_type": "raw",
      "metadata": {
        "vscode": {
          "languageId": "raw"
        }
      },
      "source": [
        "# 第17章：Pytest 测试框架 (Pytest Testing Framework)\n",
        "## Advanced Testing with Pytest\n",
        "\n",
        "本笔记介绍现代Python测试框架pytest的高级用法。\n",
        "\n",
        "### 学习目标\n",
        "- 掌握pytest基础用法和测试夹具\n",
        "- 学习参数化测试和标记过滤\n",
        "- 理解模拟、异步测试和性能测试\n",
        "- 实践测试驱动开发(TDD)\n",
        "\n",
        "### Pytest的优势\n",
        "- **简洁语法**: 使用assert语句，无需特殊方法\n",
        "- **强大夹具**: 灵活的测试环境管理\n",
        "- **丰富插件**: 覆盖率、并行执行等\n",
        "- **详细报告**: 清晰的失败信息\n"
      ]
    }
  ],
  "metadata": {
    "language_info": {
      "name": "python"
    }
  },
  "nbformat": 4,
  "nbformat_minor": 2
}
