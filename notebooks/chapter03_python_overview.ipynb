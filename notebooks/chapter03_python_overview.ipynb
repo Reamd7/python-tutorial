{
  "cells": [
    {
      "cell_type": "raw",
      "metadata": {
        "vscode": {
          "languageId": "raw"
        }
      },
      "source": [
        "# 第3章：Python 速览\n",
        "\n",
        "本 notebook 基于 Python 官方教程第3章，快速了解 Python 的基本语法和数据类型。\n",
        "\n",
        "## 学习目标\n",
        "\n",
        "- 掌握 Python 的基本数据类型\n",
        "- 学习字符串操作和格式化\n",
        "- 了解列表的基本用法\n",
        "- 练习数学运算和控制流\n",
        "\n",
        "## 🔗 相关资源\n",
        "\n",
        "- [官方教程第3章](https://docs.python.org/zh-cn/3/tutorial/introduction.html)\n",
        "- 练习文件：`exercises/chapter03_python_overview.py`\n",
        "- 测试文件：`tests/test_chapter03_python_overview.py`\n"
      ]
    },
    {
      "cell_type": "code",
      "execution_count": null,
      "metadata": {},
      "outputs": [],
      "source": [
        "# 导入练习模块\n",
        "import sys\n",
        "sys.path.append('../')\n",
        "\n",
        "from exercises.chapter03_python_overview import *\n"
      ]
    },
    {
      "cell_type": "raw",
      "metadata": {
        "vscode": {
          "languageId": "raw"
        }
      },
      "source": [
        "## 3.1 Python 作为计算器使用\n",
        "\n",
        "Python 可以作为一个强大的计算器来使用。\n"
      ]
    },
    {
      "cell_type": "code",
      "execution_count": null,
      "metadata": {},
      "outputs": [],
      "source": [
        "# 基本数学运算\n",
        "print(\"=== 基本数学运算 ===\")\n",
        "print(f\"加法: 8 + 5 = {8 + 5}\")\n",
        "print(f\"减法: 10 - 3 = {10 - 3}\")\n",
        "print(f\"乘法: 4 * 7 = {4 * 7}\")\n",
        "print(f\"除法: 15 / 4 = {15 / 4}\")\n",
        "print(f\"整数除法: 15 // 4 = {15 // 4}\")\n",
        "print(f\"取余: 15 % 4 = {15 % 4}\")\n",
        "print(f\"乘方: 2 ** 8 = {2 ** 8}\")\n",
        "\n",
        "# 复杂表达式\n",
        "result = (8 + 2) * 3 / 2\n",
        "print(f\"复杂表达式: (8 + 2) * 3 / 2 = {result}\")\n",
        "\n",
        "# 使用变量\n",
        "width = 20\n",
        "height = 5 * 9\n",
        "area = width * height\n",
        "print(f\"矩形面积: {width} × {height} = {area}\")\n",
        "\n",
        "# 最后一个表达式的值会赋给变量 _\n",
        "_ = 42\n",
        "print(f\"在交互模式中，最后一个表达式的值存储在 _ 中: {_}\")\n"
      ]
    },
    {
      "cell_type": "raw",
      "metadata": {
        "vscode": {
          "languageId": "raw"
        }
      },
      "source": [
        "## 3.1.2 字符串\n",
        "\n",
        "字符串是 Python 中处理文本的重要数据类型。\n"
      ]
    },
    {
      "cell_type": "code",
      "execution_count": 1,
      "metadata": {},
      "outputs": [
        {
          "name": "stdout",
          "output_type": "stream",
          "text": [
            "\n",
            "=== 字符串操作 ===\n",
            "单引号字符串: Hello, World!\n",
            "双引号字符串: Python Programming\n",
            "三引号字符串: '这是一个\\n多行字符串'\n",
            "字符串连接: Hello, Python!\n",
            "字符串重复: Python Python Python \n",
            "字符串: Python\n",
            "第一个字符: P\n",
            "最后一个字符: n\n",
            "前3个字符: Pyt\n",
            "后3个字符: hon\n"
          ]
        },
        {
          "ename": "AttributeError",
          "evalue": "'str' object has no attribute 'reverse'",
          "output_type": "error",
          "traceback": [
            "\u001b[31m---------------------------------------------------------------------------\u001b[39m",
            "\u001b[31mAttributeError\u001b[39m                            Traceback (most recent call last)",
            "\u001b[36mCell\u001b[39m\u001b[36m \u001b[39m\u001b[32mIn[1]\u001b[39m\u001b[32m, line 31\u001b[39m\n\u001b[32m     29\u001b[39m \u001b[38;5;28mprint\u001b[39m(\u001b[33mf\u001b[39m\u001b[33m\"\u001b[39m\u001b[33m前3个字符: \u001b[39m\u001b[38;5;132;01m{\u001b[39;00mtext[:\u001b[32m3\u001b[39m]\u001b[38;5;132;01m}\u001b[39;00m\u001b[33m\"\u001b[39m)\n\u001b[32m     30\u001b[39m \u001b[38;5;28mprint\u001b[39m(\u001b[33mf\u001b[39m\u001b[33m\"\u001b[39m\u001b[33m后3个字符: \u001b[39m\u001b[38;5;132;01m{\u001b[39;00mtext[-\u001b[32m3\u001b[39m:]\u001b[38;5;132;01m}\u001b[39;00m\u001b[33m\"\u001b[39m)\n\u001b[32m---> \u001b[39m\u001b[32m31\u001b[39m \u001b[38;5;28mprint\u001b[39m(\u001b[33mf\u001b[39m\u001b[33m\"\u001b[39m\u001b[33m反转字符串: \u001b[39m\u001b[38;5;132;01m{\u001b[39;00m\u001b[43mtext\u001b[49m\u001b[43m.\u001b[49m\u001b[43mreverse\u001b[49m()\u001b[38;5;132;01m}\u001b[39;00m\u001b[33m\"\u001b[39m)\n\u001b[32m     32\u001b[39m \u001b[38;5;28mprint\u001b[39m(\u001b[33mf\u001b[39m\u001b[33m\"\u001b[39m\u001b[33m中间字符: \u001b[39m\u001b[38;5;132;01m{\u001b[39;00mtext[\u001b[32m1\u001b[39m:\u001b[32m5\u001b[39m]\u001b[38;5;132;01m}\u001b[39;00m\u001b[33m\"\u001b[39m)\n\u001b[32m     34\u001b[39m \u001b[38;5;66;03m# 字符串长度\u001b[39;00m\n",
            "\u001b[31mAttributeError\u001b[39m: 'str' object has no attribute 'reverse'"
          ]
        }
      ],
      "source": [
        "# 字符串操作演示\n",
        "print(\"\\n=== 字符串操作 ===\")\n",
        "\n",
        "# 创建字符串\n",
        "single_quote = 'Hello, World!'\n",
        "double_quote = \"Python Programming\"\n",
        "triple_quote = \"\"\"这是一个\n",
        "多行字符串\"\"\"\n",
        "\n",
        "print(f\"单引号字符串: {single_quote}\")\n",
        "print(f\"双引号字符串: {double_quote}\")\n",
        "print(f\"三引号字符串: {repr(triple_quote)}\")\n",
        "\n",
        "# 字符串连接\n",
        "greeting = \"Hello\"\n",
        "name = \"Python\"\n",
        "message = greeting + \", \" + name + \"!\"\n",
        "print(f\"字符串连接: {message}\")\n",
        "\n",
        "# 字符串重复\n",
        "repeated = \"Python \" * 3\n",
        "print(f\"字符串重复: {repeated}\")\n",
        "\n",
        "# 字符串索引和切片\n",
        "text = \"Python\"\n",
        "print(f\"字符串: {text}\")\n",
        "print(f\"第一个字符: {text[0]}\")\n",
        "print(f\"最后一个字符: {text[-1]}\")\n",
        "print(f\"前3个字符: {text[:3]}\")\n",
        "print(f\"后3个字符: {text[-3:]}\")\n",
        "print(f\"反转字符串: {text[::-1]}\")\n",
        "print(f\"中间字符: {text[1:5]}\")\n",
        "\n",
        "# 字符串长度\n",
        "print(f\"字符串长度: {len(text)}\")\n",
        "\n",
        "# 字符串是不可变的\n",
        "print(\"注意：字符串是不可变的，不能直接修改字符串中的字符\")\n"
      ]
    },
    {
      "cell_type": "raw",
      "metadata": {
        "vscode": {
          "languageId": "raw"
        }
      },
      "source": [
        "## 3.1.3 列表\n",
        "\n",
        "列表是 Python 中最常用的数据结构之一。\n"
      ]
    },
    {
      "cell_type": "code",
      "execution_count": 2,
      "metadata": {},
      "outputs": [
        {
          "name": "stdout",
          "output_type": "stream",
          "text": [
            "\n",
            "=== 列表操作 ===\n",
            "数字列表: [1, 2, 3, 4, 5]\n",
            "水果列表: ['apple', 'banana', 'cherry']\n",
            "混合列表: [1, 'hello', 3.14, [1, 2, 3]]\n",
            "第一个数字: 1\n",
            "最后一个水果: cherry\n",
            "前3个数字: [1, 2, 3]\n",
            "修改后的数字列表: [10, 2, 3, 4, 5]\n",
            "添加水果后: ['apple', 'banana', 'cherry', 'date']\n",
            "插入水果后: ['apple', 'orange', 'banana', 'cherry', 'date']\n",
            "移除的水果: date\n",
            "移除后的列表: ['apple', 'orange', 'banana', 'cherry']\n",
            "列表长度: 4\n",
            "列表连接: [10, 2, 3, 4, 5, 6, 7, 8]\n",
            "矩阵: [[1, 2, 3], [4, 5, 6], [7, 8, 9]]\n",
            "第一行: [1, 2, 3]\n",
            "第二行第二列: 5\n",
            "反转矩阵: [[7, 8, 9], [4, 5, 6], [1, 2, 3]]\n",
            "反转第一行: [7, 8, 9]\n",
            "反转第二行第二列: 5\n"
          ]
        }
      ],
      "source": [
        "# 列表操作演示\n",
        "print(\"\\n=== 列表操作 ===\")\n",
        "\n",
        "# 创建列表\n",
        "numbers = [1, 2, 3, 4, 5]\n",
        "fruits = ['apple', 'banana', 'cherry']\n",
        "mixed = [1, 'hello', 3.14, [1, 2, 3]]\n",
        "\n",
        "print(f\"数字列表: {numbers}\")\n",
        "print(f\"水果列表: {fruits}\")\n",
        "print(f\"混合列表: {mixed}\")\n",
        "\n",
        "# 列表索引和切片\n",
        "print(f\"第一个数字: {numbers[0]}\")\n",
        "print(f\"最后一个水果: {fruits[-1]}\")\n",
        "print(f\"前3个数字: {numbers[:3]}\")\n",
        "\n",
        "# 列表是可变的\n",
        "numbers[0] = 10\n",
        "print(f\"修改后的数字列表: {numbers}\")\n",
        "\n",
        "# 列表方法\n",
        "fruits.append('date')\n",
        "print(f\"添加水果后: {fruits}\")\n",
        "\n",
        "fruits.insert(1, 'orange')\n",
        "print(f\"插入水果后: {fruits}\")\n",
        "\n",
        "removed = fruits.pop()\n",
        "print(f\"移除的水果: {removed}\")\n",
        "print(f\"移除后的列表: {fruits}\")\n",
        "\n",
        "# 列表长度\n",
        "print(f\"列表长度: {len(fruits)}\")\n",
        "\n",
        "# 列表连接\n",
        "combined = numbers + [6, 7, 8]\n",
        "print(f\"列表连接: {combined}\")\n",
        "\n",
        "# 嵌套列表\n",
        "matrix = [[1, 2, 3], [4, 5, 6], [7, 8, 9]]\n",
        "print(f\"矩阵: {matrix}\")\n",
        "print(f\"第一行: {matrix[0]}\")\n",
        "print(f\"第二行第二列: {matrix[1][1]}\")\n",
        "matrix.reverse()\n",
        "print(f\"反转矩阵: {matrix}\")\n",
        "print(f\"反转第一行: {matrix[0]}\")\n",
        "print(f\"反转第二行第二列: {matrix[1][1]}\")"
      ]
    },
    {
      "cell_type": "raw",
      "metadata": {
        "vscode": {
          "languageId": "raw"
        }
      },
      "source": [
        "## 练习任务\n",
        "\n",
        "完成 `exercises/chapter03_python_overview.py` 中的练习：\n",
        "\n",
        "1. `calculator_basic()` - 基本计算器功能\n",
        "2. `string_operations()` - 字符串操作\n",
        "3. `list_operations()` - 列表操作\n",
        "4. `fibonacci_series()` - 斐波那契数列\n",
        "\n",
        "运行测试验证实现：\n",
        "```bash\n",
        "pytest tests/test_chapter03_python_overview.py -v\n",
        "```\n"
      ]
    }
  ],
  "metadata": {
    "kernelspec": {
      "display_name": ".venv (3.13.3)",
      "language": "python",
      "name": "python3"
    },
    "language_info": {
      "codemirror_mode": {
        "name": "ipython",
        "version": 3
      },
      "file_extension": ".py",
      "mimetype": "text/x-python",
      "name": "python",
      "nbconvert_exporter": "python",
      "pygments_lexer": "ipython3",
      "version": "3.13.3"
    }
  },
  "nbformat": 4,
  "nbformat_minor": 2
}
