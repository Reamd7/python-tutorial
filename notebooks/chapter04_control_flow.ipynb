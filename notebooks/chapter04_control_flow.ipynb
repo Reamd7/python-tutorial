{
  "cells": [
    {
      "cell_type": "raw",
      "metadata": {
        "vscode": {
          "languageId": "raw"
        }
      },
      "source": [
        "# 第4章：更多控制流工具\n",
        "\n",
        "本 notebook 基于 Python 官方教程第4章，深入学习控制流语句和函数。\n",
        "\n",
        "## 学习目标\n",
        "\n",
        "- 掌握 if、for、while 语句\n",
        "- 学习 break、continue 和 else 子句\n",
        "- 了解函数定义和调用\n",
        "- 学习 lambda 表达式和高级函数特性\n",
        "\n",
        "## 🔗 相关资源\n",
        "\n",
        "- [官方教程第4章](https://docs.python.org/zh-cn/3/tutorial/controlflow.html)\n",
        "- 练习文件：`exercises/chapter04_control_flow.py`\n",
        "- 测试文件：`tests/test_chapter04_control_flow.py`\n"
      ]
    },
    {
      "cell_type": "code",
      "execution_count": 1,
      "metadata": {},
      "outputs": [],
      "source": [
        "# 导入练习模块\n",
        "import sys\n",
        "sys.path.append('../')\n",
        "\n",
        "from exercises.chapter04_control_flow import *\n"
      ]
    },
    {
      "cell_type": "raw",
      "metadata": {
        "vscode": {
          "languageId": "raw"
        }
      },
      "source": [
        "## 4.1 if 语句\n",
        "\n",
        "if 语句用于条件判断，是程序控制流的基础。\n"
      ]
    },
    {
      "cell_type": "code",
      "execution_count": 2,
      "metadata": {},
      "outputs": [
        {
          "name": "stdout",
          "output_type": "stream",
          "text": [
            "=== if 语句演示 ===\n",
            "分数 95: A级：优秀\n",
            "分数 85: B级：良好\n",
            "分数 75: C级：中等\n",
            "分数 65: D级：及格\n",
            "分数 55: F级：不及格\n",
            "可以开车\n"
          ]
        }
      ],
      "source": [
        "# if 语句演示\n",
        "print(\"=== if 语句演示 ===\")\n",
        "\n",
        "def grade_classifier(score):\n",
        "    \"\"\"根据分数分类等级\"\"\"\n",
        "    if score >= 90:\n",
        "        return \"A级：优秀\"\n",
        "    elif score >= 80:\n",
        "        return \"B级：良好\" \n",
        "    elif score >= 70:\n",
        "        return \"C级：中等\"\n",
        "    elif score >= 60:\n",
        "        return \"D级：及格\"\n",
        "    else:\n",
        "        return \"F级：不及格\"\n",
        "\n",
        "# 测试不同分数\n",
        "test_scores = [95, 85, 75, 65, 55]\n",
        "for score in test_scores:\n",
        "    grade = grade_classifier(score)\n",
        "    print(f\"分数 {score}: {grade}\")\n",
        "\n",
        "# 复杂条件判断\n",
        "age = 20\n",
        "has_license = True\n",
        "\n",
        "if age >= 18 and has_license:\n",
        "    print(\"可以开车\")\n",
        "elif age >= 18:\n",
        "    print(\"年龄够了，但需要驾照\")\n",
        "else:\n",
        "    print(\"年龄不够，不能开车\")\n"
      ]
    },
    {
      "cell_type": "raw",
      "metadata": {
        "vscode": {
          "languageId": "raw"
        }
      },
      "source": [
        "## 4.2 for 语句\n",
        "\n",
        "for 语句用于遍历序列（如列表、字符串、字典等）。\n"
      ]
    },
    {
      "cell_type": "code",
      "execution_count": 3,
      "metadata": {},
      "outputs": [
        {
          "name": "stdout",
          "output_type": "stream",
          "text": [
            "\n",
            "=== for 语句演示 ===\n",
            "遍历水果列表:\n",
            "  - apple\n",
            "  - banana\n",
            "  - cherry\n",
            "\n",
            "遍历字符串 'Python':\n",
            "  字符: P\n",
            "  字符: y\n",
            "  字符: t\n",
            "  字符: h\n",
            "  字符: o\n",
            "  字符: n\n",
            "\n",
            "使用 enumerate 获取索引:\n",
            "  索引 0: apple\n",
            "  索引 1: banana\n",
            "  索引 2: cherry\n",
            "\n",
            "遍历字典:\n",
            "  name: 张三\n",
            "  age: 25\n",
            "  city: 北京\n",
            "\n",
            "使用 range():\n",
            "  数字: 0\n",
            "  数字: 1\n",
            "  数字: 2\n",
            "  数字: 3\n",
            "  数字: 4\n",
            "\n",
            "range(2, 8, 2):\n",
            "  偶数: 2\n",
            "  偶数: 4\n",
            "  偶数: 6\n"
          ]
        }
      ],
      "source": [
        "# for 语句演示\n",
        "print(\"\\n=== for 语句演示 ===\")\n",
        "\n",
        "# 遍历列表\n",
        "fruits = ['apple', 'banana', 'cherry']\n",
        "print(\"遍历水果列表:\")\n",
        "for fruit in fruits:\n",
        "    print(f\"  - {fruit}\")\n",
        "\n",
        "# 遍历字符串\n",
        "word = \"Python\"\n",
        "print(f\"\\n遍历字符串 '{word}':\")\n",
        "for char in word:\n",
        "    print(f\"  字符: {char}\")\n",
        "\n",
        "# 使用 enumerate 获取索引\n",
        "print(\"\\n使用 enumerate 获取索引:\")\n",
        "for i, fruit in enumerate(fruits):\n",
        "    print(f\"  索引 {i}: {fruit}\")\n",
        "\n",
        "# 遍历字典\n",
        "person = {'name': '张三', 'age': 25, 'city': '北京'}\n",
        "print(\"\\n遍历字典:\")\n",
        "for key, value in person.items():\n",
        "    print(f\"  {key}: {value}\")\n",
        "\n",
        "# 使用 range()\n",
        "print(\"\\n使用 range():\")\n",
        "for i in range(5):\n",
        "    print(f\"  数字: {i}\")\n",
        "\n",
        "print(\"\\nrange(2, 8, 2):\")\n",
        "for i in range(2, 8, 2):\n",
        "    print(f\"  偶数: {i}\")\n"
      ]
    },
    {
      "cell_type": "raw",
      "metadata": {
        "vscode": {
          "languageId": "raw"
        }
      },
      "source": [
        "## 4.4 break、continue 和循环中的 else\n",
        "\n",
        "break 和 continue 语句可以控制循环的执行。\n"
      ]
    },
    {
      "cell_type": "code",
      "execution_count": 4,
      "metadata": {},
      "outputs": [
        {
          "name": "stdout",
          "output_type": "stream",
          "text": [
            "\n",
            "=== break 和 continue 演示 ===\n",
            "在列表 [1, 3, 7, 8, 9, 10] 中寻找第一个偶数:\n",
            "  找到第一个偶数: 8\n",
            "\n",
            "打印 [1, 3, 7, 8, 9, 10] 中的偶数:\n",
            "  偶数: 8\n",
            "  偶数: 10\n",
            "\n",
            "寻找素数演示:\n",
            "小于20的素数: [2, 3, 5, 7, 11, 13, 17, 19]\n"
          ]
        }
      ],
      "source": [
        "# break 和 continue 演示\n",
        "print(\"\\n=== break 和 continue 演示 ===\")\n",
        "\n",
        "# break 示例：寻找第一个偶数\n",
        "numbers = [1, 3, 7, 8, 9, 10]\n",
        "print(f\"在列表 {numbers} 中寻找第一个偶数:\")\n",
        "for num in numbers:\n",
        "    if num % 2 == 0:\n",
        "        print(f\"  找到第一个偶数: {num}\")\n",
        "        break\n",
        "else:\n",
        "    print(\"  没有找到偶数\")\n",
        "\n",
        "# continue 示例：跳过奇数\n",
        "print(f\"\\n打印 {numbers} 中的偶数:\")\n",
        "for num in numbers:\n",
        "    if num % 2 != 0:\n",
        "        continue  # 跳过奇数\n",
        "    print(f\"  偶数: {num}\")\n",
        "\n",
        "# 循环的 else 子句\n",
        "print(\"\\n寻找素数演示:\")\n",
        "def find_primes(max_num):\n",
        "    \"\"\"寻找小于 max_num 的素数\"\"\"\n",
        "    primes = []\n",
        "    for n in range(2, max_num):\n",
        "        for x in range(2, int(n ** 0.5) + 1):\n",
        "            if n % x == 0:\n",
        "                break  # 找到因数，不是素数\n",
        "        else:\n",
        "            # 循环正常结束，没有找到因数，是素数\n",
        "            primes.append(n)\n",
        "    return primes\n",
        "\n",
        "primes = find_primes(20)\n",
        "print(f\"小于20的素数: {primes}\")\n"
      ]
    },
    {
      "cell_type": "raw",
      "metadata": {
        "vscode": {
          "languageId": "raw"
        }
      },
      "source": [
        "## 4.6 定义函数\n",
        "\n",
        "函数是组织代码的重要方式，可以提高代码的可重用性。\n"
      ]
    },
    {
      "cell_type": "code",
      "execution_count": 5,
      "metadata": {},
      "outputs": [
        {
          "name": "stdout",
          "output_type": "stream",
          "text": [
            "\n",
            "=== 函数定义演示 ===\n",
            "5的阶乘: 120\n",
            "默认问候: Hello, Alice!\n",
            "自定义问候: 你好, Bob。\n",
            "关键字参数: Hi, Charlie!!!\n",
            "可变参数求和: 15\n",
            "关键字可变参数:\n",
            "  name: 张三\n",
            "  age: 25\n",
            "  city: 北京\n"
          ]
        }
      ],
      "source": [
        "# 函数定义演示\n",
        "print(\"\\n=== 函数定义演示 ===\")\n",
        "\n",
        "# 基本函数\n",
        "def factorial(n):\n",
        "    \"\"\"计算阶乘\"\"\"\n",
        "    if n <= 1:\n",
        "        return 1\n",
        "    return n * factorial(n - 1)\n",
        "\n",
        "print(f\"5的阶乘: {factorial(5)}\")\n",
        "\n",
        "# 带默认参数的函数\n",
        "def greet(name, greeting=\"Hello\", punctuation=\"!\"):\n",
        "    \"\"\"问候函数\"\"\"\n",
        "    return f\"{greeting}, {name}{punctuation}\"\n",
        "\n",
        "print(f\"默认问候: {greet('Alice')}\")\n",
        "print(f\"自定义问候: {greet('Bob', '你好', '。')}\")\n",
        "\n",
        "# 关键字参数\n",
        "print(f\"关键字参数: {greet('Charlie', punctuation='!!!', greeting='Hi')}\")\n",
        "\n",
        "# 可变参数\n",
        "def sum_all(*args):\n",
        "    \"\"\"计算所有参数的和\"\"\"\n",
        "    return sum(args)\n",
        "\n",
        "print(f\"可变参数求和: {sum_all(1, 2, 3, 4, 5)}\")\n",
        "\n",
        "# 关键字可变参数\n",
        "def print_info(**kwargs):\n",
        "    \"\"\"打印信息\"\"\"\n",
        "    for key, value in kwargs.items():\n",
        "        print(f\"  {key}: {value}\")\n",
        "\n",
        "print(\"关键字可变参数:\")\n",
        "print_info(name=\"张三\", age=25, city=\"北京\")\n"
      ]
    },
    {
      "cell_type": "raw",
      "metadata": {
        "vscode": {
          "languageId": "raw"
        }
      },
      "source": [
        "## 4.7 Lambda 表达式\n",
        "\n",
        "Lambda 表达式用于创建小的匿名函数。\n"
      ]
    },
    {
      "cell_type": "code",
      "execution_count": 6,
      "metadata": {},
      "outputs": [
        {
          "name": "stdout",
          "output_type": "stream",
          "text": [
            "\n",
            "=== Lambda 表达式演示 ===\n",
            "Lambda 平方: 25\n",
            "Lambda 加法: 10\n",
            "使用 map 和 lambda 计算平方: [1, 4, 9, 16, 25]\n",
            "使用 filter 和 lambda 过滤偶数: [2, 4]\n",
            "按成绩排序: [('Charlie', 78), ('Alice', 85), ('Bob', 92)]\n",
            "闭包示例 - 双倍: 10\n",
            "闭包示例 - 三倍: 15\n"
          ]
        }
      ],
      "source": [
        "# Lambda 表达式演示\n",
        "print(\"\\n=== Lambda 表达式演示 ===\")\n",
        "\n",
        "# 基本 lambda\n",
        "square = lambda x: x ** 2\n",
        "print(f\"Lambda 平方: {square(5)}\")\n",
        "\n",
        "# 多个参数的 lambda\n",
        "add = lambda x, y: x + y\n",
        "print(f\"Lambda 加法: {add(3, 7)}\")\n",
        "\n",
        "# 在 map() 中使用 lambda\n",
        "numbers = [1, 2, 3, 4, 5]\n",
        "squares = list(map(lambda x: x ** 2, numbers))\n",
        "print(f\"使用 map 和 lambda 计算平方: {squares}\")\n",
        "\n",
        "# 在 filter() 中使用 lambda\n",
        "evens = list(filter(lambda x: x % 2 == 0, numbers))\n",
        "print(f\"使用 filter 和 lambda 过滤偶数: {evens}\")\n",
        "\n",
        "# 在 sorted() 中使用 lambda\n",
        "students = [('Alice', 85), ('Bob', 92), ('Charlie', 78)]\n",
        "sorted_by_grade = sorted(students, key=lambda student: student[1])\n",
        "print(f\"按成绩排序: {sorted_by_grade}\")\n",
        "\n",
        "# 闭包示例\n",
        "def make_multiplier(n):\n",
        "    \"\"\"创建一个乘法器函数\"\"\"\n",
        "    return lambda x: x * n\n",
        "\n",
        "double = make_multiplier(2)\n",
        "triple = make_multiplier(3)\n",
        "\n",
        "print(f\"闭包示例 - 双倍: {double(5)}\")\n",
        "print(f\"闭包示例 - 三倍: {triple(5)}\")\n"
      ]
    },
    {
      "cell_type": "raw",
      "metadata": {
        "vscode": {
          "languageId": "raw"
        }
      },
      "source": [
        "## 练习任务\n",
        "\n",
        "完成 `exercises/chapter04_control_flow.py` 中的练习：\n",
        "\n",
        "1. `grade_classifier()` - 成绩分类器\n",
        "2. `analyze_numbers()` - 数字分析\n",
        "3. `find_primes()` - 素数查找\n",
        "4. `factorial_function()` - 阶乘函数\n",
        "5. `lambda_operations()` - Lambda 表达式操作\n",
        "\n",
        "运行测试验证实现：\n",
        "```bash\n",
        "pytest tests/test_chapter04_control_flow.py -v\n",
        "```\n"
      ]
    }
  ],
  "metadata": {
    "kernelspec": {
      "display_name": ".venv (3.13.3)",
      "language": "python",
      "name": "python3"
    },
    "language_info": {
      "codemirror_mode": {
        "name": "ipython",
        "version": 3
      },
      "file_extension": ".py",
      "mimetype": "text/x-python",
      "name": "python",
      "nbconvert_exporter": "python",
      "pygments_lexer": "ipython3",
      "version": "3.13.3"
    }
  },
  "nbformat": 4,
  "nbformat_minor": 2
}
