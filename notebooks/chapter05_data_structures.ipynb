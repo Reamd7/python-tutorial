{
  "cells": [
    {
      "cell_type": "raw",
      "metadata": {
        "vscode": {
          "languageId": "raw"
        }
      },
      "source": [
        "# 第5章：数据结构\n",
        "\n",
        "本 notebook 基于 Python 官方教程第5章，深入学习 Python 的数据结构。\n",
        "\n",
        "## 学习目标\n",
        "\n",
        "- 深入理解列表的方法和用法\n",
        "- 学习元组、集合和字典\n",
        "- 掌握列表推导式和生成器表达式\n",
        "- 了解数据结构的选择和应用\n",
        "\n",
        "## 🔗 相关资源\n",
        "\n",
        "- [官方教程第5章](https://docs.python.org/zh-cn/3/tutorial/datastructures.html)\n",
        "- 练习文件：`exercises/chapter05_data_structures.py`\n",
        "- 测试文件：`tests/test_chapter05_data_structures.py`\n"
      ]
    },
    {
      "cell_type": "code",
      "execution_count": null,
      "metadata": {},
      "outputs": [],
      "source": [
        "# 导入练习模块\n",
        "import sys\n",
        "sys.path.append('../')\n",
        "\n",
        "from exercises.chapter05_data_structures import *\n",
        "from collections import deque\n"
      ]
    },
    {
      "cell_type": "raw",
      "metadata": {
        "vscode": {
          "languageId": "raw"
        }
      },
      "source": [
        "## 5.1 列表的更多方法\n",
        "\n",
        "列表有许多有用的方法来操作数据。\n"
      ]
    },
    {
      "cell_type": "code",
      "execution_count": null,
      "metadata": {},
      "outputs": [],
      "source": [
        "# 列表方法演示\n",
        "print(\"=== 列表方法演示 ===\")\n",
        "\n",
        "# 创建示例列表\n",
        "fruits = ['apple', 'banana', 'cherry']\n",
        "numbers = [3, 1, 4, 1, 5, 9, 2, 6]\n",
        "\n",
        "print(f\"原始水果列表: {fruits}\")\n",
        "print(f\"原始数字列表: {numbers}\")\n",
        "\n",
        "# append() - 添加元素到末尾\n",
        "fruits.append('date')\n",
        "print(f\"append('date'): {fruits}\")\n",
        "\n",
        "# insert() - 在指定位置插入元素\n",
        "fruits.insert(1, 'orange')\n",
        "print(f\"insert(1, 'orange'): {fruits}\")\n",
        "\n",
        "# remove() - 移除第一个匹配的元素\n",
        "fruits.remove('banana')\n",
        "print(f\"remove('banana'): {fruits}\")\n",
        "\n",
        "# pop() - 移除并返回指定位置的元素\n",
        "popped = fruits.pop(2)\n",
        "print(f\"pop(2): {popped}, 剩余: {fruits}\")\n",
        "\n",
        "# index() - 查找元素的索引\n",
        "idx = fruits.index('apple')\n",
        "print(f\"index('apple'): {idx}\")\n",
        "\n",
        "# count() - 计算元素出现次数\n",
        "count = numbers.count(1)\n",
        "print(f\"numbers.count(1): {count}\")\n",
        "\n",
        "# sort() - 原地排序\n",
        "numbers_copy = numbers.copy()\n",
        "numbers_copy.sort()\n",
        "print(f\"sort(): {numbers_copy}\")\n",
        "\n",
        "# reverse() - 原地反转\n",
        "fruits.reverse()\n",
        "print(f\"reverse(): {fruits}\")\n",
        "\n",
        "# 列表作为栈使用\n",
        "stack = []\n",
        "stack.append('first')\n",
        "stack.append('second')\n",
        "stack.append('third')\n",
        "print(f\"\\\\n栈操作:\")\n",
        "print(f\"压栈后: {stack}\")\n",
        "print(f\"弹出: {stack.pop()}\")\n",
        "print(f\"栈状态: {stack}\")\n"
      ]
    },
    {
      "cell_type": "raw",
      "metadata": {
        "vscode": {
          "languageId": "raw"
        }
      },
      "source": [
        "## 5.1.2 把列表当作队列使用\n",
        "\n",
        "使用 collections.deque 可以高效地实现队列。\n"
      ]
    },
    {
      "cell_type": "code",
      "execution_count": null,
      "metadata": {},
      "outputs": [],
      "source": [
        "# 队列操作演示\n",
        "print(\"\\\\n=== 队列操作演示 ===\")\n",
        "\n",
        "# 使用 deque 实现队列\n",
        "queue = deque(['first', 'second', 'third'])\n",
        "print(f\"初始队列: {list(queue)}\")\n",
        "\n",
        "# 入队（从右端添加）\n",
        "queue.append('fourth')\n",
        "print(f\"入队 'fourth': {list(queue)}\")\n",
        "\n",
        "# 出队（从左端移除）\n",
        "dequeued = queue.popleft()\n",
        "print(f\"出队: {dequeued}\")\n",
        "print(f\"队列状态: {list(queue)}\")\n",
        "\n",
        "# 双端队列的其他操作\n",
        "queue.appendleft('new_first')  # 从左端添加\n",
        "print(f\"从左端添加: {list(queue)}\")\n",
        "\n",
        "right_item = queue.pop()  # 从右端移除\n",
        "print(f\"从右端移除: {right_item}\")\n",
        "print(f\"最终队列: {list(queue)}\")\n"
      ]
    },
    {
      "cell_type": "raw",
      "metadata": {
        "vscode": {
          "languageId": "raw"
        }
      },
      "source": [
        "## 5.1.3 列表推导式\n",
        "\n",
        "列表推导式提供了创建列表的简洁方法。\n"
      ]
    },
    {
      "cell_type": "code",
      "execution_count": null,
      "metadata": {},
      "outputs": [],
      "source": [
        "# 列表推导式演示\n",
        "print(\"\\\\n=== 列表推导式演示 ===\")\n",
        "\n",
        "# 基本列表推导式\n",
        "squares = [x**2 for x in range(10)]\n",
        "print(f\"平方数: {squares}\")\n",
        "\n",
        "# 带条件的列表推导式\n",
        "even_squares = [x**2 for x in range(10) if x % 2 == 0]\n",
        "print(f\"偶数的平方: {even_squares}\")\n",
        "\n",
        "# 对字符串的操作\n",
        "fruits = ['apple', 'banana', 'cherry']\n",
        "upper_fruits = [fruit.upper() for fruit in fruits]\n",
        "print(f\"大写水果: {upper_fruits}\")\n",
        "\n",
        "# 过滤和转换\n",
        "words = ['hello', 'world', 'python', 'is', 'awesome']\n",
        "long_words = [word.title() for word in words if len(word) > 4]\n",
        "print(f\"长单词（首字母大写）: {long_words}\")\n",
        "\n",
        "# 嵌套列表推导式\n",
        "matrix = [[1, 2, 3], [4, 5, 6], [7, 8, 9]]\n",
        "flattened = [num for row in matrix for num in row]\n",
        "print(f\"展平矩阵: {flattened}\")\n",
        "\n",
        "# 创建矩阵\n",
        "matrix_3x4 = [[i * j for j in range(4)] for i in range(3)]\n",
        "print(f\"3x4矩阵: {matrix_3x4}\")\n",
        "\n",
        "# 复杂的嵌套推导式\n",
        "transpose = [[row[i] for row in matrix] for i in range(len(matrix[0]))]\n",
        "print(f\"原矩阵: {matrix}\")\n",
        "print(f\"转置矩阵: {transpose}\")\n"
      ]
    },
    {
      "cell_type": "raw",
      "metadata": {
        "vscode": {
          "languageId": "raw"
        }
      },
      "source": [
        "## 5.3 元组和序列\n",
        "\n",
        "元组是不可变的序列，通常用于存储异构数据。\n"
      ]
    },
    {
      "cell_type": "code",
      "execution_count": null,
      "metadata": {},
      "outputs": [],
      "source": [
        "# 元组操作演示\n",
        "print(\"\\\\n=== 元组操作演示 ===\")\n",
        "\n",
        "# 创建元组\n",
        "empty_tuple = ()\n",
        "single_tuple = (42,)  # 注意逗号\n",
        "coordinates = (3, 4)\n",
        "person = ('Alice', 25, 'Engineer')\n",
        "\n",
        "print(f\"空元组: {empty_tuple}\")\n",
        "print(f\"单元素元组: {single_tuple}\")\n",
        "print(f\"坐标: {coordinates}\")\n",
        "print(f\"人员信息: {person}\")\n",
        "\n",
        "# 元组解包\n",
        "name, age, job = person\n",
        "print(f\"解包结果: 姓名={name}, 年龄={age}, 职业={job}\")\n",
        "\n",
        "# 交换变量\n",
        "a, b = 10, 20\n",
        "print(f\"交换前: a={a}, b={b}\")\n",
        "a, b = b, a\n",
        "print(f\"交换后: a={a}, b={b}\")\n",
        "\n",
        "# 元组作为函数返回值\n",
        "def get_name_age():\n",
        "    return 'Bob', 30\n",
        "\n",
        "name, age = get_name_age()\n",
        "print(f\"函数返回: {name}, {age}\")\n",
        "\n",
        "# 嵌套元组\n",
        "nested = ((1, 2), (3, 4), (5, 6))\n",
        "print(f\"嵌套元组: {nested}\")\n",
        "\n",
        "# 元组的方法\n",
        "numbers_tuple = (1, 2, 3, 2, 4, 2)\n",
        "print(f\"数字元组: {numbers_tuple}\")\n",
        "print(f\"count(2): {numbers_tuple.count(2)}\")\n",
        "print(f\"index(3): {numbers_tuple.index(3)}\")\n",
        "\n",
        "# 命名元组（需要导入）\n",
        "from collections import namedtuple\n",
        "Point = namedtuple('Point', ['x', 'y'])\n",
        "p = Point(3, 4)\n",
        "print(f\"命名元组: {p}\")\n",
        "print(f\"访问: p.x={p.x}, p.y={p.y}\")\n"
      ]
    },
    {
      "cell_type": "raw",
      "metadata": {
        "vscode": {
          "languageId": "raw"
        }
      },
      "source": [
        "## 5.4 集合\n",
        "\n",
        "集合是无序的不重复元素集。\n"
      ]
    },
    {
      "cell_type": "code",
      "execution_count": null,
      "metadata": {},
      "outputs": [],
      "source": [
        "# 集合操作演示\n",
        "print(\"\\\\n=== 集合操作演示 ===\")\n",
        "\n",
        "# 创建集合\n",
        "fruits_set = {'apple', 'banana', 'cherry'}\n",
        "numbers_set = set([1, 2, 3, 4, 5])\n",
        "empty_set = set()  # 注意：{}创建的是字典\n",
        "\n",
        "print(f\"水果集合: {fruits_set}\")\n",
        "print(f\"数字集合: {numbers_set}\")\n",
        "\n",
        "# 自动去重\n",
        "duplicate_list = [1, 2, 2, 3, 3, 3, 4]\n",
        "unique_set = set(duplicate_list)\n",
        "print(f\"去重前: {duplicate_list}\")\n",
        "print(f\"去重后: {unique_set}\")\n",
        "\n",
        "# 集合运算\n",
        "set_a = {1, 2, 3, 4}\n",
        "set_b = {3, 4, 5, 6}\n",
        "\n",
        "print(f\"\\\\n集合A: {set_a}\")\n",
        "print(f\"集合B: {set_b}\")\n",
        "print(f\"并集 A | B: {set_a | set_b}\")\n",
        "print(f\"交集 A & B: {set_a & set_b}\")\n",
        "print(f\"差集 A - B: {set_a - set_b}\")\n",
        "print(f\"对称差集 A ^ B: {set_a ^ set_b}\")\n",
        "\n",
        "# 集合方法\n",
        "fruits_set.add('date')\n",
        "print(f\"\\\\n添加'date': {fruits_set}\")\n",
        "\n",
        "fruits_set.update(['grape', 'orange'])\n",
        "print(f\"批量添加: {fruits_set}\")\n",
        "\n",
        "fruits_set.remove('banana')  # 会抛出KeyError如果不存在\n",
        "print(f\"移除'banana': {fruits_set}\")\n",
        "\n",
        "fruits_set.discard('kiwi')  # 不会抛出错误\n",
        "print(f\"尝试移除'kiwi': {fruits_set}\")\n",
        "\n",
        "# 集合推导式\n",
        "even_squares = {x**2 for x in range(10) if x % 2 == 0}\n",
        "print(f\"偶数平方集合: {even_squares}\")\n"
      ]
    },
    {
      "cell_type": "raw",
      "metadata": {
        "vscode": {
          "languageId": "raw"
        }
      },
      "source": [
        "## 5.5 字典\n",
        "\n",
        "字典是键值对的无序集合。\n"
      ]
    },
    {
      "cell_type": "code",
      "execution_count": null,
      "metadata": {},
      "outputs": [],
      "source": [
        "# 字典操作演示\n",
        "print(\"\\\\n=== 字典操作演示 ===\")\n",
        "\n",
        "# 创建字典\n",
        "person = {'name': '张三', 'age': 25, 'city': '北京'}\n",
        "scores = dict(math=90, english=85, science=88)\n",
        "empty_dict = {}\n",
        "\n",
        "print(f\"人员信息: {person}\")\n",
        "print(f\"成绩: {scores}\")\n",
        "\n",
        "# 访问和修改\n",
        "print(f\"\\\\n姓名: {person['name']}\")\n",
        "print(f\"年龄: {person.get('age', '未知')}\")\n",
        "\n",
        "person['age'] = 26\n",
        "person['job'] = '工程师'\n",
        "print(f\"修改后: {person}\")\n",
        "\n",
        "# 字典方法\n",
        "print(f\"\\\\n所有键: {list(person.keys())}\")\n",
        "print(f\"所有值: {list(person.values())}\")\n",
        "print(f\"所有项: {list(person.items())}\")\n",
        "\n",
        "# 安全删除\n",
        "removed_age = person.pop('age', None)\n",
        "print(f\"删除年龄: {removed_age}\")\n",
        "print(f\"删除后: {person}\")\n",
        "\n",
        "# 更新字典\n",
        "additional_info = {'phone': '123456789', 'email': 'zhang@example.com'}\n",
        "person.update(additional_info)\n",
        "print(f\"更新后: {person}\")\n",
        "\n",
        "# 字典推导式\n",
        "squares_dict = {x: x**2 for x in range(6)}\n",
        "print(f\"\\\\n平方字典: {squares_dict}\")\n",
        "\n",
        "# 条件字典推导式\n",
        "even_squares = {x: x**2 for x in range(10) if x % 2 == 0}\n",
        "print(f\"偶数平方字典: {even_squares}\")\n",
        "\n",
        "# 嵌套字典\n",
        "students = {\n",
        "    'Alice': {'math': 90, 'english': 85},\n",
        "    'Bob': {'math': 88, 'english': 92},\n",
        "    'Charlie': {'math': 95, 'english': 78}\n",
        "}\n",
        "print(f\"\\\\n学生成绩: {students}\")\n",
        "print(f\"Alice的数学成绩: {students['Alice']['math']}\")\n"
      ]
    },
    {
      "cell_type": "raw",
      "metadata": {
        "vscode": {
          "languageId": "raw"
        }
      },
      "source": [
        "## 练习任务\n",
        "\n",
        "完成 `exercises/chapter05_data_structures.py` 中的练习：\n",
        "\n",
        "1. `list_methods_demo()` - 列表方法演示\n",
        "2. `queue_operations()` - 队列操作\n",
        "3. `list_comprehension_examples()` - 列表推导式\n",
        "4. `tuple_operations()` - 元组操作\n",
        "5. `set_operations()` - 集合操作\n",
        "6. `dict_operations()` - 字典操作\n",
        "\n",
        "运行测试验证实现：\n",
        "```bash\n",
        "pytest tests/test_chapter05_data_structures.py -v\n",
        "```\n"
      ]
    }
  ],
  "metadata": {
    "language_info": {
      "name": "python"
    }
  },
  "nbformat": 4,
  "nbformat_minor": 2
}
