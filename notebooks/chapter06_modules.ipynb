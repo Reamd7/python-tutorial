{
  "cells": [
    {
      "cell_type": "raw",
      "metadata": {
        "vscode": {
          "languageId": "raw"
        }
      },
      "source": [
        "# 第6章：模块\n",
        "\n",
        "本 notebook 基于 Python 官方教程第6章，带您深入了解模块系统。\n",
        "\n",
        "## 学习目标\n",
        "\n",
        "- 理解模块的概念和用途\n",
        "- 掌握各种导入方式\n",
        "- 学习包的创建和管理\n",
        "- 了解模块搜索路径\n",
        "- 实践模块的实际应用\n",
        "\n",
        "## 🔗 相关资源\n",
        "\n",
        "- [官方教程第6章](https://docs.python.org/zh-cn/3/tutorial/modules.html)\n",
        "- 练习文件：`exercises/chapter06_modules.py`\n",
        "- 测试文件：`tests/test_chapter06_modules.py`\n"
      ]
    },
    {
      "cell_type": "code",
      "execution_count": null,
      "metadata": {},
      "outputs": [],
      "source": [
        "# 导入练习模块\n",
        "import sys\n",
        "sys.path.append('../')\n",
        "\n",
        "from exercises.chapter06_modules import *\n",
        "import math\n",
        "import os\n"
      ]
    },
    {
      "cell_type": "raw",
      "metadata": {
        "vscode": {
          "languageId": "raw"
        }
      },
      "source": [
        "## 6.1 模块基础\n",
        "\n",
        "模块是包含 Python 定义和语句的文件。模块可以定义函数、类和变量，也可以包含可执行代码。\n"
      ]
    },
    {
      "cell_type": "code",
      "execution_count": null,
      "metadata": {},
      "outputs": [],
      "source": [
        "# 演示不同的导入方式\n",
        "print(\"=== 模块导入演示 ===\")\n",
        "\n",
        "# 1. 基本导入\n",
        "import math\n",
        "print(f\"使用 import math: π = {math.pi}\")\n",
        "\n",
        "# 2. 别名导入  \n",
        "import math as m\n",
        "print(f\"使用 import math as m: π = {m.pi}\")\n",
        "\n",
        "# 3. 从模块导入特定函数\n",
        "from math import sqrt, pi\n",
        "print(f\"使用 from math import sqrt, pi: √16 = {sqrt(16)}, π = {pi}\")\n",
        "\n",
        "# 4. 从模块导入并重命名\n",
        "from math import pi as PI\n",
        "print(f\"使用 from math import pi as PI: π = {PI}\")\n"
      ]
    },
    {
      "cell_type": "raw",
      "metadata": {
        "vscode": {
          "languageId": "raw"
        }
      },
      "source": [
        "## 6.2 模块搜索路径\n",
        "\n",
        "Python 在导入模块时会按特定顺序搜索模块文件。\n"
      ]
    },
    {
      "cell_type": "code",
      "execution_count": null,
      "metadata": {},
      "outputs": [],
      "source": [
        "# 查看模块搜索路径\n",
        "print(\"=== 模块搜索路径 ===\")\n",
        "print(f\"当前工作目录: {os.getcwd()}\")\n",
        "print(f\"Python 路径条目数: {len(sys.path)}\")\n",
        "print(\"前5个搜索路径:\")\n",
        "for i, path in enumerate(sys.path[:5]):\n",
        "    print(f\"  {i+1}. {path}\")\n",
        "\n",
        "print(f\"内置模块数量: {len(sys.builtin_module_names)}\")\n",
        "print(\"部分内置模块:\", list(sys.builtin_module_names)[:10])\n"
      ]
    },
    {
      "cell_type": "raw",
      "metadata": {
        "vscode": {
          "languageId": "raw"
        }
      },
      "source": [
        "## 6.3 分析模块属性\n",
        "\n",
        "使用 `dir()` 函数可以查看模块中定义的名称。\n"
      ]
    },
    {
      "cell_type": "code",
      "execution_count": null,
      "metadata": {},
      "outputs": [],
      "source": [
        "# 分析 math 模块的属性\n",
        "print(\"=== math 模块属性分析 ===\")\n",
        "math_attrs = dir(math)\n",
        "total_attrs = len(math_attrs)\n",
        "public_attrs = [attr for attr in math_attrs if not attr.startswith('_')]\n",
        "private_attrs = [attr for attr in math_attrs if attr.startswith('_')]\n",
        "functions = [attr for attr in public_attrs if callable(getattr(math, attr))]\n",
        "\n",
        "print(f\"总属性数: {total_attrs}\")\n",
        "print(f\"公共属性数: {len(public_attrs)}\")\n",
        "print(f\"私有属性数: {len(private_attrs)}\")\n",
        "print(f\"函数数量: {len(functions)}\")\n",
        "print(f\"模块名: {math.__name__}\")\n",
        "print(f\"模块文档: {math.__doc__[:50]}...\")\n",
        "\n",
        "print(\"\\n前10个函数:\")\n",
        "for func in functions[:10]:\n",
        "    print(f\"  - {func}\")\n"
      ]
    },
    {
      "cell_type": "raw",
      "metadata": {
        "vscode": {
          "languageId": "raw"
        }
      },
      "source": [
        "## 练习任务\n",
        "\n",
        "现在尝试完成 `exercises/chapter06_modules.py` 中的练习函数：\n",
        "\n",
        "1. `create_simple_module_content()` - 创建简单模块内容\n",
        "2. `demonstrate_import_variations()` - 演示各种导入方式\n",
        "3. `analyze_module_attributes()` - 分析模块属性\n",
        "4. `create_package_structure()` - 设计包结构\n",
        "5. `practical_module_usage()` - 实际模块使用场景\n",
        "\n",
        "完成后运行测试验证你的实现：\n",
        "```bash\n",
        "pytest tests/test_chapter06_modules.py -v\n",
        "```\n"
      ]
    }
  ],
  "metadata": {
    "language_info": {
      "name": "python"
    }
  },
  "nbformat": 4,
  "nbformat_minor": 2
}
