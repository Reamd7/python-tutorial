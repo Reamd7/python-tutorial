{
  "cells": [
    {
      "cell_type": "raw",
      "metadata": {
        "vscode": {
          "languageId": "raw"
        }
      },
      "source": [
        "# 第7章：输入与输出\n",
        "\n",
        "本 notebook 基于 Python 官方教程第7章，学习字符串格式化和文件操作。\n",
        "\n",
        "## 学习目标\n",
        "\n",
        "- 掌握各种字符串格式化方法\n",
        "- 学习文件读写操作\n",
        "- 了解 JSON 和 CSV 处理\n",
        "- 掌握路径操作和错误处理\n",
        "\n",
        "## 🔗 相关资源\n",
        "\n",
        "- [官方教程第7章](https://docs.python.org/zh-cn/3/tutorial/inputoutput.html)\n",
        "- 练习文件：`exercises/chapter07_input_output.py`\n",
        "- 测试文件：`tests/test_chapter07_input_output.py`\n"
      ]
    },
    {
      "cell_type": "code",
      "execution_count": null,
      "metadata": {},
      "outputs": [],
      "source": [
        "# 导入必要的模块\n",
        "import sys\n",
        "sys.path.append('../')\n",
        "\n",
        "from exercises.chapter07_input_output import *\n",
        "import json\n",
        "import tempfile\n",
        "from pathlib import Path\n"
      ]
    },
    {
      "cell_type": "raw",
      "metadata": {
        "vscode": {
          "languageId": "raw"
        }
      },
      "source": [
        "## 7.1 字符串格式化\n",
        "\n",
        "Python 提供了多种字符串格式化方法，从传统的 % 格式化到现代的 f-strings。\n"
      ]
    },
    {
      "cell_type": "code",
      "execution_count": null,
      "metadata": {},
      "outputs": [],
      "source": [
        "# 演示各种字符串格式化方法\n",
        "name = \"张三\"\n",
        "age = 25\n",
        "score = 87.5\n",
        "salary = 12345.67\n",
        "\n",
        "print(\"=== 字符串格式化演示 ===\")\n",
        "\n",
        "# 1. f-strings (推荐)\n",
        "print(f\"f-string: 姓名：{name}，年龄：{age}\")\n",
        "print(f\"f-string 对齐: {name:<10} | {age:>3}\")\n",
        "print(f\"f-string 精度: 分数：{score:.2f}，薪资：{salary:.1f}\")\n",
        "\n",
        "# 2. format() 方法\n",
        "print(\"format 方法: 姓名：{}，年龄：{}\".format(name, age))\n",
        "print(\"format 位置: {1} 今年 {0} 岁\".format(age, name))\n",
        "print(\"format 命名: {name} 的分数是 {score}\".format(name=name, score=score))\n",
        "\n",
        "# 3. % 格式化（传统方法）\n",
        "print(\"% 格式化: %s 今年 %d 岁\" % (name, age))\n"
      ]
    },
    {
      "cell_type": "raw",
      "metadata": {
        "vscode": {
          "languageId": "raw"
        }
      },
      "source": [
        "## 7.2 文件操作\n",
        "\n",
        "文件操作是程序与外部数据交互的重要方式。\n"
      ]
    },
    {
      "cell_type": "code",
      "execution_count": null,
      "metadata": {},
      "outputs": [],
      "source": [
        "# 文件操作演示\n",
        "print(\"=== 文件操作演示 ===\")\n",
        "\n",
        "# 使用临时文件避免创建实际文件\n",
        "with tempfile.NamedTemporaryFile(mode='w+', delete=False, encoding='utf-8') as f:\n",
        "    temp_filename = f.name\n",
        "    \n",
        "    # 写入文件\n",
        "    content = \"Hello, World!\\n这是第二行。\\n第三行内容。\"\n",
        "    f.write(content)\n",
        "    f.flush()\n",
        "    \n",
        "    print(f\"临时文件创建: {temp_filename}\")\n",
        "\n",
        "# 读取文件\n",
        "with open(temp_filename, 'r', encoding='utf-8') as f:\n",
        "    print(\"读取所有内容:\")\n",
        "    all_content = f.read()\n",
        "    print(repr(all_content))\n",
        "\n",
        "# 按行读取\n",
        "with open(temp_filename, 'r', encoding='utf-8') as f:\n",
        "    print(\"\\n按行读取:\")\n",
        "    lines = f.readlines()\n",
        "    for i, line in enumerate(lines, 1):\n",
        "        print(f\"  第{i}行: {repr(line)}\")\n",
        "\n",
        "# 清理临时文件\n",
        "import os\n",
        "os.unlink(temp_filename)\n",
        "print(f\"\\n临时文件已删除\")\n"
      ]
    },
    {
      "cell_type": "raw",
      "metadata": {
        "vscode": {
          "languageId": "raw"
        }
      },
      "source": [
        "## 7.2.2 JSON 操作\n",
        "\n",
        "JSON 是现代程序中最常用的数据交换格式。\n"
      ]
    },
    {
      "cell_type": "code",
      "execution_count": null,
      "metadata": {},
      "outputs": [],
      "source": [
        "# JSON 操作演示\n",
        "print(\"=== JSON 操作演示 ===\")\n",
        "\n",
        "# 示例数据\n",
        "data = {\n",
        "    \"students\": [\n",
        "        {\"name\": \"Alice\", \"age\": 20, \"grades\": [85, 90, 78]},\n",
        "        {\"name\": \"Bob\", \"age\": 22, \"grades\": [92, 88, 95]}\n",
        "    ],\n",
        "    \"class\": \"Python 101\",\n",
        "    \"date\": \"2024-01-15\"\n",
        "}\n",
        "\n",
        "# 序列化为 JSON 字符串\n",
        "json_string = json.dumps(data, ensure_ascii=False, indent=2)\n",
        "print(\"序列化为 JSON:\")\n",
        "print(json_string)\n",
        "\n",
        "# 反序列化\n",
        "parsed_data = json.loads(json_string)\n",
        "print(f\"\\n反序列化后的类型: {type(parsed_data)}\")\n",
        "print(f\"班级名称: {parsed_data['class']}\")\n",
        "print(f\"学生数量: {len(parsed_data['students'])}\")\n",
        "\n",
        "# 文件操作\n",
        "with tempfile.NamedTemporaryFile(mode='w+', suffix='.json', delete=False, encoding='utf-8') as f:\n",
        "    json_filename = f.name\n",
        "    json.dump(data, f, ensure_ascii=False, indent=2)\n",
        "    print(f\"\\nJSON 文件已保存: {json_filename}\")\n",
        "\n",
        "# 从文件读取\n",
        "with open(json_filename, 'r', encoding='utf-8') as f:\n",
        "    loaded_data = json.load(f)\n",
        "    print(f\"从文件加载的数据与原数据相等: {loaded_data == data}\")\n",
        "\n",
        "# 清理\n",
        "os.unlink(json_filename)\n"
      ]
    },
    {
      "cell_type": "raw",
      "metadata": {
        "vscode": {
          "languageId": "raw"
        }
      },
      "source": [
        "## 练习任务\n",
        "\n",
        "完成 `exercises/chapter07_input_output.py` 中的练习：\n",
        "\n",
        "1. `string_formatting_comprehensive()` - 复杂字符串格式化\n",
        "2. `file_reading_operations()` - 文件读取操作\n",
        "3. `json_operations()` - JSON 操作\n",
        "4. `path_operations()` - 路径操作\n",
        "5. `file_error_handling()` - 文件错误处理\n",
        "\n",
        "运行测试验证实现：\n",
        "```bash\n",
        "pytest tests/test_chapter07_input_output.py -v\n",
        "```\n"
      ]
    }
  ],
  "metadata": {
    "language_info": {
      "name": "python"
    }
  },
  "nbformat": 4,
  "nbformat_minor": 2
}
