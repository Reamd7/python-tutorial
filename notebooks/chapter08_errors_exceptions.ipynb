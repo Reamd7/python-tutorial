{
 "cells": [
  {
   "cell_type": "raw",
   "metadata": {
    "vscode": {
     "languageId": "raw"
    }
   },
   "source": [
    "# 第8章：错误和异常\n",
    "\n",
    "本 notebook 基于 Python 官方教程第8章，深入学习异常处理机制。\n",
    "\n",
    "## 学习目标\n",
    "\n",
    "- 理解语法错误与异常的区别\n",
    "- 掌握异常处理语法\n",
    "- 学习抛出和自定义异常\n",
    "- 了解异常处理的最佳实践\n",
    "\n",
    "## 🔗 相关资源\n",
    "\n",
    "- [官方教程第8章](https://docs.python.org/zh-cn/3/tutorial/errors.html)\n",
    "- 练习文件：`exercises/chapter08_errors_exceptions.py`\n",
    "- 测试文件：`tests/test_chapter08_errors_exceptions.py`\n"
   ]
  },
  {
   "cell_type": "code",
   "execution_count": null,
   "metadata": {},
   "outputs": [],
   "source": [
    "# 导入练习模块\n",
    "import sys\n",
    "sys.path.append('../')\n",
    "\n",
    "from exercises.chapter08_errors_exceptions import *\n",
    "import traceback\n"
   ]
  },
  {
   "cell_type": "raw",
   "metadata": {
    "vscode": {
     "languageId": "raw"
    }
   },
   "source": [
    "## 8.3 处理异常\n",
    "\n",
    "异常处理使程序能够优雅地处理错误情况，而不是崩溃。\n"
   ]
  },
  {
   "cell_type": "code",
   "execution_count": 1,
   "metadata": {},
   "outputs": [
    {
     "name": "stdout",
     "output_type": "stream",
     "text": [
      "=== 基本异常处理 ===\n",
      "10 ÷ 2 = 5.0\n",
      "错误：不能除以零！\n",
      "错误：参数类型不正确！\n"
     ]
    }
   ],
   "source": [
    "# 基本异常处理演示\n",
    "print(\"=== 基本异常处理 ===\")\n",
    "\n",
    "def safe_divide(a, b):\n",
    "    \"\"\"安全的除法运算\"\"\"\n",
    "    try:\n",
    "        result = a / b\n",
    "        return f\"{a} ÷ {b} = {result}\"\n",
    "    except ZeroDivisionError:\n",
    "        return f\"错误：不能除以零！\"\n",
    "    except TypeError:\n",
    "        return f\"错误：参数类型不正确！\"\n",
    "\n",
    "# 测试不同情况\n",
    "test_cases = [\n",
    "    (10, 2),    # 正常情况\n",
    "    (10, 0),    # 除零错误\n",
    "    (10, \"a\"),  # 类型错误\n",
    "]\n",
    "\n",
    "for a, b in test_cases:\n",
    "    print(safe_divide(a, b))\n"
   ]
  },
  {
   "cell_type": "raw",
   "metadata": {
    "vscode": {
     "languageId": "raw"
    }
   },
   "source": [
    "## 8.4 抛出异常\n",
    "\n",
    "有时我们需要主动抛出异常来表示错误条件。\n"
   ]
  },
  {
   "cell_type": "code",
   "execution_count": 2,
   "metadata": {},
   "outputs": [
    {
     "name": "stdout",
     "output_type": "stream",
     "text": [
      "\n",
      "=== 抛出异常演示 ===\n",
      "✓ 年龄 25 有效\n",
      "✗ 错误：年龄不能为负数\n",
      "✗ 错误：年龄必须是整数\n",
      "✗ 错误：年龄不能超过150岁\n"
     ]
    }
   ],
   "source": [
    "# 抛出异常演示\n",
    "print(\"\\n=== 抛出异常演示 ===\")\n",
    "\n",
    "def validate_age(age):\n",
    "    \"\"\"验证年龄的有效性\"\"\"\n",
    "    if not isinstance(age, int):\n",
    "        raise TypeError(\"年龄必须是整数\")\n",
    "    if age < 0:\n",
    "        raise ValueError(\"年龄不能为负数\")\n",
    "    if age > 150:\n",
    "        raise ValueError(\"年龄不能超过150岁\")\n",
    "    return f\"年龄 {age} 有效\"\n",
    "\n",
    "# 测试不同的年龄值\n",
    "test_ages = [25, -5, \"abc\", 200]\n",
    "\n",
    "for age in test_ages:\n",
    "    try:\n",
    "        result = validate_age(age)\n",
    "        print(f\"✓ {result}\")\n",
    "    except (TypeError, ValueError) as e:\n",
    "        print(f\"✗ 错误：{e}\")\n"
   ]
  },
  {
   "cell_type": "raw",
   "metadata": {
    "vscode": {
     "languageId": "raw"
    }
   },
   "source": [
    "## 8.5 自定义异常\n",
    "\n",
    "创建自定义异常类可以更好地表达特定的错误条件。\n"
   ]
  },
  {
   "cell_type": "code",
   "execution_count": 5,
   "metadata": {},
   "outputs": [
    {
     "name": "stdout",
     "output_type": "stream",
     "text": [
      "\n",
      "=== 自定义异常演示 ===\n",
      "捕获到验证错误: 邮箱格式不正确\n",
      "错误字段: email\n",
      "捕获到计算错误: 除零错误\n",
      "操作: division\n",
      "操作数: [10, 0]\n",
      "\n",
      "ValidationError 是 CustomError 的子类: True\n",
      "CalculationError 是 CustomError 的子类: True\n",
      "CustomError 是 Exception 的子类: True\n"
     ]
    }
   ],
   "source": [
    "# 自定义异常演示\n",
    "print(\"\\n=== 自定义异常演示 ===\")\n",
    "\n",
    "class CustomError(Exception):\n",
    "    def __init__(self, message):\n",
    "        super().__init__(message)\n",
    "\n",
    "class ValidationError(CustomError):\n",
    "    def __init__(self, message, field):\n",
    "        super().__init__(message)\n",
    "        self.field = field\n",
    "\n",
    "class CalculationError(CustomError):\n",
    "    def __init__(self, message, operation, operands):\n",
    "        super().__init__(message)\n",
    "        self.operation = operation\n",
    "        self.operands = operands\n",
    "\n",
    "# 测试自定义异常类\n",
    "try:\n",
    "    raise ValidationError(\"邮箱格式不正确\", field=\"email\")\n",
    "except ValidationError as e:\n",
    "    print(f\"捕获到验证错误: {e}\")\n",
    "    print(f\"错误字段: {e.field}\")\n",
    "\n",
    "try:\n",
    "    raise CalculationError(\"除零错误\", operation=\"division\", operands=[10, 0])\n",
    "except CalculationError as e:\n",
    "    print(f\"捕获到计算错误: {e}\")\n",
    "    print(f\"操作: {e.operation}\")\n",
    "    print(f\"操作数: {e.operands}\")\n",
    "\n",
    "# 演示异常继承层次\n",
    "print(f\"\\nValidationError 是 CustomError 的子类: {issubclass(ValidationError, CustomError)}\")\n",
    "print(f\"CalculationError 是 CustomError 的子类: {issubclass(CalculationError, CustomError)}\")\n",
    "print(f\"CustomError 是 Exception 的子类: {issubclass(CustomError, Exception)}\")\n"
   ]
  },
  {
   "cell_type": "raw",
   "metadata": {
    "vscode": {
     "languageId": "raw"
    }
   },
   "source": [
    "## 8.7 完整的异常处理结构\n",
    "\n",
    "try-except-else-finally 提供了完整的异常处理机制。\n"
   ]
  },
  {
   "cell_type": "code",
   "execution_count": 6,
   "metadata": {},
   "outputs": [
    {
     "name": "stdout",
     "output_type": "stream",
     "text": [
      "\n",
      "=== 完整异常处理结构 ===\n",
      "测试1：存在的文件\n",
      "尝试打开文件: ../README.md\n",
      "文件内容长度: 7705\n",
      "文件读取成功！\n",
      "文件已关闭\n",
      "清理操作完成\n",
      "\n",
      "测试2：不存在的文件\n",
      "尝试打开文件: nonexistent.txt\n",
      "文件不存在！\n",
      "清理操作完成\n"
     ]
    }
   ],
   "source": [
    "# 完整的异常处理结构演示\n",
    "print(\"\\n=== 完整异常处理结构 ===\")\n",
    "\n",
    "def demonstrate_complete_exception_handling(filename):\n",
    "    \"\"\"演示完整的异常处理结构\"\"\"\n",
    "    file_handle = None\n",
    "    \n",
    "    try:\n",
    "        print(f\"尝试打开文件: {filename}\")\n",
    "        file_handle = open(filename, 'r')\n",
    "        content = file_handle.read()\n",
    "        print(f\"文件内容长度: {len(content)}\")\n",
    "        \n",
    "    except FileNotFoundError:\n",
    "        print(\"文件不存在！\")\n",
    "        return None\n",
    "        \n",
    "    except PermissionError:\n",
    "        print(\"没有权限访问文件！\")\n",
    "        return None\n",
    "        \n",
    "    else:\n",
    "        # 只有在没有异常时才执行\n",
    "        print(\"文件读取成功！\")\n",
    "        return content\n",
    "        \n",
    "    finally:\n",
    "        # 无论是否有异常都会执行\n",
    "        if file_handle:\n",
    "            file_handle.close()\n",
    "            print(\"文件已关闭\")\n",
    "        print(\"清理操作完成\")\n",
    "\n",
    "# 测试存在的文件\n",
    "print(\"测试1：存在的文件\")\n",
    "result1 = demonstrate_complete_exception_handling(\"../README.md\")\n",
    "\n",
    "print(\"\\n测试2：不存在的文件\")\n",
    "result2 = demonstrate_complete_exception_handling(\"nonexistent.txt\")\n"
   ]
  },
  {
   "cell_type": "raw",
   "metadata": {
    "vscode": {
     "languageId": "raw"
    }
   },
   "source": [
    "## 练习任务\n",
    "\n",
    "完成 `exercises/chapter08_errors_exceptions.py` 中的练习：\n",
    "\n",
    "1. `basic_exception_handling()` - 基本异常处理\n",
    "2. `multiple_exception_types()` - 处理多种异常类型\n",
    "3. `custom_exception_usage()` - 自定义异常使用\n",
    "4. `exception_best_practices()` - 异常处理最佳实践\n",
    "5. `defensive_programming_examples()` - 防御性编程\n",
    "\n",
    "运行测试验证实现：\n",
    "```bash\n",
    "pytest tests/test_chapter08_errors_exceptions.py -v\n",
    "```\n"
   ]
  }
 ],
 "metadata": {
  "kernelspec": {
   "display_name": "Python 3 (ipykernel)",
   "language": "python",
   "name": "python3"
  },
  "language_info": {
   "codemirror_mode": {
    "name": "ipython",
    "version": 3
   },
   "file_extension": ".py",
   "mimetype": "text/x-python",
   "name": "python",
   "nbconvert_exporter": "python",
   "pygments_lexer": "ipython3",
   "version": "3.13.3"
  }
 },
 "nbformat": 4,
 "nbformat_minor": 4
}
