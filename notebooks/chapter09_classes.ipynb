{
  "cells": [
    {
      "cell_type": "raw",
      "metadata": {
        "vscode": {
          "languageId": "raw"
        }
      },
      "source": [
        "# 第9章：类\n",
        "\n",
        "本 notebook 基于 Python 官方教程第9章，深入学习面向对象编程。\n",
        "\n",
        "## 学习目标\n",
        "\n",
        "- 理解类和对象的概念\n",
        "- 学习类的定义和实例化\n",
        "- 掌握继承和多态\n",
        "- 了解特殊方法和迭代器\n",
        "\n",
        "## 🔗 相关资源\n",
        "\n",
        "- [官方教程第9章](https://docs.python.org/zh-cn/3/tutorial/classes.html)\n",
        "- 练习文件：`exercises/chapter09_classes.py`\n",
        "- 测试文件：`tests/test_chapter09_classes.py`\n"
      ]
    },
    {
      "cell_type": "code",
      "execution_count": null,
      "metadata": {},
      "outputs": [],
      "source": [
        "# 导入练习模块\n",
        "import sys\n",
        "sys.path.append('../')\n",
        "\n",
        "from exercises.chapter09_classes import *\n"
      ]
    },
    {
      "cell_type": "raw",
      "metadata": {
        "vscode": {
          "languageId": "raw"
        }
      },
      "source": [
        "## 9.3 初探类\n",
        "\n",
        "类提供了一种组合数据和功能的方法。\n"
      ]
    },
    {
      "cell_type": "code",
      "execution_count": null,
      "metadata": {},
      "outputs": [],
      "source": [
        "# 基本类定义演示\n",
        "print(\"=== 基本类定义演示 ===\")\n",
        "\n",
        "class BankAccount:\n",
        "    \"\"\"银行账户类\"\"\"\n",
        "    \n",
        "    def __init__(self, account_number, owner_name, initial_balance=0):\n",
        "        \"\"\"初始化账户\"\"\"\n",
        "        self.account_number = account_number\n",
        "        self.owner_name = owner_name\n",
        "        self.balance = initial_balance\n",
        "    \n",
        "    def deposit(self, amount):\n",
        "        \"\"\"存款\"\"\"\n",
        "        if amount > 0:\n",
        "            self.balance += amount\n",
        "            return f\"存入 {amount}，当前余额: {self.balance}\"\n",
        "        return \"存款金额必须大于0\"\n",
        "    \n",
        "    def withdraw(self, amount):\n",
        "        \"\"\"取款\"\"\"\n",
        "        if amount > 0 and amount <= self.balance:\n",
        "            self.balance -= amount\n",
        "            return f\"取出 {amount}，当前余额: {self.balance}\"\n",
        "        return \"余额不足或金额无效\"\n",
        "    \n",
        "    def get_balance(self):\n",
        "        \"\"\"查询余额\"\"\"\n",
        "        return self.balance\n",
        "    \n",
        "    def __str__(self):\n",
        "        \"\"\"字符串表示\"\"\"\n",
        "        return f\"账户({self.account_number}): {self.owner_name}, 余额: {self.balance}\"\n",
        "\n",
        "# 创建和使用类实例\n",
        "account = BankAccount(\"12345\", \"张三\", 1000)\n",
        "print(f\"创建账户: {account}\")\n",
        "\n",
        "print(account.deposit(500))\n",
        "print(account.withdraw(200))\n",
        "print(f\"当前余额: {account.get_balance()}\")\n",
        "\n",
        "# 访问实例属性\n",
        "print(f\"账户所有者: {account.owner_name}\")\n",
        "print(f\"账户号码: {account.account_number}\")\n"
      ]
    },
    {
      "cell_type": "raw",
      "metadata": {
        "vscode": {
          "languageId": "raw"
        }
      },
      "source": [
        "## 9.5 继承\n",
        "\n",
        "继承允许定义一个类来继承另一个类的属性和方法。\n"
      ]
    },
    {
      "cell_type": "code",
      "execution_count": null,
      "metadata": {},
      "outputs": [],
      "source": [
        "# 继承演示\n",
        "print(\"\\\\n=== 继承演示 ===\")\n",
        "\n",
        "class SavingsAccount(BankAccount):\n",
        "    \"\"\"储蓄账户类，继承自BankAccount\"\"\"\n",
        "    \n",
        "    def __init__(self, account_number, owner_name, initial_balance=0, interest_rate=0.02):\n",
        "        \"\"\"初始化储蓄账户\"\"\"\n",
        "        super().__init__(account_number, owner_name, initial_balance)\n",
        "        self.interest_rate = interest_rate\n",
        "    \n",
        "    def add_interest(self):\n",
        "        \"\"\"添加利息\"\"\"\n",
        "        interest = self.balance * self.interest_rate\n",
        "        self.balance += interest\n",
        "        return f\"添加利息 {interest:.2f}，当前余额: {self.balance:.2f}\"\n",
        "    \n",
        "    def __str__(self):\n",
        "        \"\"\"重写字符串表示\"\"\"\n",
        "        return f\"储蓄账户({self.account_number}): {self.owner_name}, 余额: {self.balance:.2f}, 利率: {self.interest_rate*100}%\"\n",
        "\n",
        "# 创建储蓄账户\n",
        "savings = SavingsAccount(\"54321\", \"李四\", 2000, 0.03)\n",
        "print(f\"创建储蓄账户: {savings}\")\n",
        "\n",
        "# 使用继承的方法\n",
        "print(savings.deposit(500))\n",
        "\n",
        "# 使用子类特有的方法\n",
        "print(savings.add_interest())\n",
        "\n",
        "print(f\"最终状态: {savings}\")\n",
        "\n",
        "# 检查继承关系\n",
        "print(f\"\\\\nisinstance(savings, SavingsAccount): {isinstance(savings, SavingsAccount)}\")\n",
        "print(f\"isinstance(savings, BankAccount): {isinstance(savings, BankAccount)}\")\n",
        "print(f\"issubclass(SavingsAccount, BankAccount): {issubclass(SavingsAccount, BankAccount)}\")\n"
      ]
    },
    {
      "cell_type": "raw",
      "metadata": {
        "vscode": {
          "languageId": "raw"
        }
      },
      "source": [
        "## 9.6 私有变量\n",
        "\n",
        "Python 有一些约定来表示私有变量和方法。\n"
      ]
    },
    {
      "cell_type": "code",
      "execution_count": null,
      "metadata": {},
      "outputs": [],
      "source": [
        "# 私有变量和方法演示\n",
        "print(\"\\\\n=== 私有变量和方法演示 ===\")\n",
        "\n",
        "class Person:\n",
        "    \\\"\\\"\\\"人员类，演示私有变量和方法\\\"\\\"\\\"\\n    \\n    class_var = \\\"这是类变量\\\"  # 类变量\\n    \\n    def __init__(self, name, age):\\n        self.name = name          # 公共变量\\n        self._age = age          # 受保护变量（约定）\\n        self.__secret = \\\"秘密\\\"   # 私有变量（名称修饰）\\n    \\n    def public_method(self):\\n        \\\"\\\"\\\"公共方法\\\"\\\"\\\"\\n        return f\\\"{self.name} 的公共信息\\\"\\n    \\n    def _protected_method(self):\\n        \\\"\\\"\\\"受保护方法（约定）\\\"\\\"\\\"\\n        return f\\\"年龄: {self._age}\\\"\\n    \\n    def __private_method(self):\\n        \\\"\\\"\\\"私有方法（名称修饰）\\\"\\\"\\\"\\n        return f\\\"秘密: {self.__secret}\\\"\\n    \\n    def access_private(self):\\n        \\\"\\\"\\\"通过公共方法访问私有内容\\\"\\\"\\\"\\n        return self.__private_method()\\n    \\n    @classmethod\\n    def get_class_var(cls):\\n        \\\"\\\"\\\"类方法\\\"\\\"\\\"\\n        return cls.class_var\\n    \\n    @staticmethod\\n    def static_info():\\n        \\\"\\\"\\\"静态方法\\\"\\\"\\\"\\n        return \\\"这是静态方法\\\"\\n\\n# 创建实例\\nperson = Person(\\\"张三\\\", 25)\\n\\n# 访问公共成员\\nprint(f\\\"姓名: {person.name}\\\")\\nprint(f\\\"公共方法: {person.public_method()}\\\")\\n\\n# 访问受保护成员（可以访问，但不建议）\\nprint(f\\\"年龄（受保护）: {person._age}\\\")\\nprint(f\\\"受保护方法: {person._protected_method()}\\\")\\n\\n# 尝试访问私有成员\\ntry:\\n    print(person.__secret)  # 会报错\\nexcept AttributeError as e:\\n    print(f\\\"访问私有变量失败: {e}\\\")\\n\\n# 通过名称修饰访问私有成员\\nprint(f\\\"通过名称修饰访问: {person._Person__secret}\\\")\\n\\n# 通过公共方法访问私有方法\\nprint(f\\\"通过公共方法访问私有内容: {person.access_private()}\\\")\\n\\n# 类方法和静态方法\\nprint(f\\\"类方法: {Person.get_class_var()}\\\")\\nprint(f\\\"静态方法: {Person.static_info()}\\\")\\n\\n# 检查实例的属性\\nprint(f\\\"\\\\n实例属性: {vars(person)}\\\")\\nprint(f\\\"实例的所有属性: {dir(person)}\\\")\n"
      ]
    },
    {
      "cell_type": "raw",
      "metadata": {
        "vscode": {
          "languageId": "raw"
        }
      },
      "source": [
        "## 9.8 迭代器\n",
        "\n",
        "迭代器是一个实现了迭代协议的对象。\n"
      ]
    },
    {
      "cell_type": "code",
      "execution_count": null,
      "metadata": {},
      "outputs": [],
      "source": [
        "# 迭代器演示\\nprint(\\\"\\\\n=== 迭代器演示 ===\\\")\\n\\nclass Counter:\\n    \\\"\\\"\\\"计数器迭代器\\\"\\\"\\\"\\n    \\n    def __init__(self, max_count):\\n        self.max_count = max_count\\n        self.current = 0\\n    \\n    def __iter__(self):\\n        \\\"\\\"\\\"返回迭代器对象本身\\\"\\\"\\\"\\n        return self\\n    \\n    def __next__(self):\\n        \\\"\\\"\\\"返回下一个值\\\"\\\"\\\"\\n        if self.current < self.max_count:\\n            self.current += 1\\n            return self.current\\n        else:\\n            raise StopIteration\\n\\n# 使用迭代器\\nprint(\\\"计数器迭代器:\\\")\\ncounter = Counter(5)\\nfor num in counter:\\n    print(f\\\"  计数: {num}\\\")\\n\\n# 手动迭代\\nprint(\\\"\\\\n手动迭代:\\\")\\ncounter2 = Counter(3)\\niterator = iter(counter2)\\ntry:\\n    while True:\\n        value = next(iterator)\\n        print(f\\\"  手动获取: {value}\\\")\\nexcept StopIteration:\\n    print(\\\"  迭代完成\\\")\\n\\n# 生成器函数\\ndef fibonacci_generator(n):\\n    \\\"\\\"\\\"斐波那契生成器\\\"\\\"\\\"\\n    a, b = 0, 1\\n    count = 0\\n    while count < n:\\n        yield a\\n        a, b = b, a + b\\n        count += 1\\n\\nprint(\\\"\\\\n斐波那契生成器:\\\")\\nfor i, fib in enumerate(fibonacci_generator(8)):\\n    print(f\\\"  F({i}) = {fib}\\\")\\n\\n# 生成器表达式\\nprint(\\\"\\\\n生成器表达式:\\\")\\nsquares_gen = (x**2 for x in range(5))\\nprint(f\\\"生成器类型: {type(squares_gen)}\\\")\\nfor square in squares_gen:\\n    print(f\\\"  平方: {square}\\\")\\n\\n# 素数生成器\\ndef primes_generator(max_num):\\n    \\\"\\\"\\\"素数生成器\\\"\\\"\\\"\\n    def is_prime(n):\\n        if n < 2:\\n            return False\\n        for i in range(2, int(n ** 0.5) + 1):\\n            if n % i == 0:\\n                return False\\n        return True\\n    \\n    for num in range(2, max_num + 1):\\n        if is_prime(num):\\n            yield num\\n\\nprint(\\\"\\\\n素数生成器:\\\")\\nprimes = list(primes_generator(20))\\nprint(f\\\"20以内的素数: {primes}\\\")\n"
      ]
    },
    {
      "cell_type": "raw",
      "metadata": {
        "vscode": {
          "languageId": "raw"
        }
      },
      "source": [
        "## 练习任务\n",
        "\n",
        "完成 `exercises/chapter09_classes.py` 中的练习：\n",
        "\n",
        "1. `BankAccount` 类 - 银行账户管理\n",
        "2. `SavingsAccount` 类 - 储蓄账户（继承）\n",
        "3. `Person` 类 - 私有变量和类变量\n",
        "4. `Counter` 迭代器 - 自定义迭代器\n",
        "5. 生成器函数 - 斐波那契和素数生成器\n",
        "\n",
        "运行测试验证实现：\n",
        "```bash\n",
        "pytest tests/test_chapter09_classes.py -v\n",
        "```\n"
      ]
    }
  ],
  "metadata": {
    "language_info": {
      "name": "python"
    }
  },
  "nbformat": 4,
  "nbformat_minor": 2
}
