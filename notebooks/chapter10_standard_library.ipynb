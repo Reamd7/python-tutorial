{
 "cells": [
  {
   "cell_type": "raw",
   "metadata": {
    "vscode": {
     "languageId": "raw"
    }
   },
   "source": [
    "# 第10章：标准库简介\n",
    "\n",
    "本 notebook 基于 Python 官方教程第10章，探索 Python 强大的标准库。\n",
    "\n",
    "## 学习目标\n",
    "\n",
    "- 了解 Python 标准库的丰富功能\n",
    "- 掌握常用标准库模块的使用\n",
    "- 学习文件系统操作和正则表达式\n",
    "- 探索数学、时间和性能相关模块\n",
    "\n",
    "## 🔗 相关资源\n",
    "\n",
    "- [官方教程第10章](https://docs.python.org/zh-cn/3/tutorial/stdlib.html)\n",
    "- 练习文件：`exercises/chapter10_standard_library.py`\n",
    "- 测试文件：`tests/test_chapter10_standard_library.py`\n"
   ]
  },
  {
   "cell_type": "code",
   "execution_count": null,
   "metadata": {},
   "outputs": [],
   "source": [
    "# 导入必要的模块\n",
    "import sys\n",
    "sys.path.append('../')\n",
    "\n",
    "from exercises.chapter10_standard_library import *\n",
    "import os\n",
    "import glob\n",
    "import re\n",
    "import math\n",
    "import random\n",
    "import datetime\n",
    "import time\n"
   ]
  },
  {
   "cell_type": "raw",
   "metadata": {
    "vscode": {
     "languageId": "raw"
    }
   },
   "source": [
    "## 10.1 操作系统接口\n",
    "\n",
    "`os` 模块提供了与操作系统交互的功能。\n"
   ]
  },
  {
   "cell_type": "code",
   "execution_count": null,
   "metadata": {},
   "outputs": [],
   "source": [
    "# 操作系统接口演示\n",
    "print(\"=== 操作系统接口 ===\")\n",
    "\n",
    "# 当前工作目录\n",
    "current_dir = os.getcwd()\n",
    "print(f\"当前工作目录: {current_dir}\")\n",
    "\n",
    "# 环境变量\n",
    "print(f\"系统路径分隔符: {os.sep}\")\n",
    "print(f\"操作系统名称: {os.name}\")\n",
    "\n",
    "# 一些重要的环境变量\n",
    "env_vars = ['PATH', 'HOME', 'USER', 'USERNAME']\n",
    "print(\"\\n环境变量示例:\")\n",
    "for var in env_vars:\n",
    "    value = os.environ.get(var)\n",
    "    if value:\n",
    "        print(f\"  {var}: {value[:50]}...\")\n",
    "\n",
    "# 列出当前目录内容\n",
    "print(f\"\\n当前目录文件数量: {len(os.listdir('.'))}\")\n",
    "print(\"前5个文件/目录:\")\n",
    "for item in os.listdir('.')[:5]:\n",
    "    print(f\"  - {item}\")\n"
   ]
  },
  {
   "cell_type": "raw",
   "metadata": {
    "vscode": {
     "languageId": "raw"
    }
   },
   "source": [
    "## 10.2 文件通配符\n",
    "\n",
    "`glob` 模块提供了文件名模式匹配功能。\n"
   ]
  },
  {
   "cell_type": "code",
   "execution_count": null,
   "metadata": {},
   "outputs": [],
   "source": [
    "# 文件通配符演示\n",
    "print(\"\\n=== 文件通配符 ===\")\n",
    "\n",
    "# 查找所有 Python 文件\n",
    "py_files = glob.glob(\"../*.py\")\n",
    "print(f\"根目录下的 Python 文件数量: {len(py_files)}\")\n",
    "for file in py_files[:3]:\n",
    "    print(f\"  - {os.path.basename(file)}\")\n",
    "\n",
    "# 查找练习目录中的文件\n",
    "exercise_files = glob.glob(\"../exercises/*.py\")\n",
    "print(f\"\\n练习目录中的 Python 文件数量: {len(exercise_files)}\")\n",
    "for file in exercise_files[:5]:\n",
    "    print(f\"  - {os.path.basename(file)}\")\n",
    "\n",
    "# 递归搜索\n",
    "all_py_files = glob.glob(\"../**/*.py\", recursive=True)\n",
    "print(f\"\\n递归搜索到的 Python 文件总数: {len(all_py_files)}\")\n"
   ]
  },
  {
   "cell_type": "raw",
   "metadata": {
    "vscode": {
     "languageId": "raw"
    }
   },
   "source": [
    "## 10.5 字符串模式匹配\n",
    "\n",
    "`re` 模块提供了正则表达式功能。\n"
   ]
  },
  {
   "cell_type": "code",
   "execution_count": null,
   "metadata": {},
   "outputs": [],
   "source": [
    "# 正则表达式演示\n",
    "print(\"\\n=== 正则表达式 ===\")\n",
    "\n",
    "# 示例文本\n",
    "text = \"\"\"\n",
    "联系我们：\n",
    "邮箱: alice@example.com, bob@company.org\n",
    "电话: 138-0013-8000, (010)8888-9999\n",
    "日期: 2024-01-15, 2024/02/20\n",
    "\"\"\"\n",
    "\n",
    "# 邮箱匹配\n",
    "email_pattern = r'\\b[A-Za-z0-9._%+-]+@[A-Za-z0-9.-]+\\.[A-Z|a-z]{2,}\\b'\n",
    "emails = re.findall(email_pattern, text)\n",
    "print(f\"找到的邮箱地址: {emails}\")\n",
    "\n",
    "# 电话号码匹配\n",
    "phone_pattern = r'(\\d{3}-\\d{4}-\\d{4}|\\(\\d{3}\\)\\d{4}-\\d{4})'\n",
    "phones = re.findall(phone_pattern, text)\n",
    "print(f\"找到的电话号码: {phones}\")\n",
    "\n",
    "# 日期匹配\n",
    "date_pattern = r'\\d{4}[-/]\\d{2}[-/]\\d{2}'\n",
    "dates = re.findall(date_pattern, text)\n",
    "print(f\"找到的日期: {dates}\")\n",
    "\n",
    "# 文本替换\n",
    "censored = re.sub(r'\\d{3}-\\d{4}-\\d{4}', 'XXX-XXXX-XXXX', text)\n",
    "print(f\"\\n电话号码已脱敏: {'XXX-XXXX-XXXX' in censored}\")\n"
   ]
  },
  {
   "cell_type": "raw",
   "metadata": {
    "vscode": {
     "languageId": "raw"
    }
   },
   "source": [
    "## 10.6 数学\n",
    "\n",
    "`math` 和 `random` 模块提供了数学和随机数功能。\n"
   ]
  },
  {
   "cell_type": "code",
   "execution_count": null,
   "metadata": {},
   "outputs": [],
   "source": [
    "# 数学模块演示\n",
    "print(\"\\n=== 数学模块 ===\")\n",
    "\n",
    "# math 模块\n",
    "print(f\"π = {math.pi:.6f}\")\n",
    "print(f\"e = {math.e:.6f}\")\n",
    "print(f\"√16 = {math.sqrt(16)}\")\n",
    "print(f\"log₁₀(100) = {math.log10(100)}\")\n",
    "print(f\"sin(π/2) = {math.sin(math.pi/2):.6f}\")\n",
    "\n",
    "# random 模块\n",
    "print(f\"\\n随机数: {random.random():.6f}\")\n",
    "print(f\"1-10之间的随机整数: {random.randint(1, 10)}\")\n",
    "\n",
    "# 随机选择\n",
    "fruits = ['apple', 'banana', 'cherry', 'date']\n",
    "print(f\"随机水果: {random.choice(fruits)}\")\n",
    "\n",
    "# 打乱列表\n",
    "numbers = list(range(1, 6))\n",
    "random.shuffle(numbers)\n",
    "print(f\"打乱后的数字: {numbers}\")\n",
    "\n",
    "# 随机抽样\n",
    "sample = random.sample(range(1, 101), 5)\n",
    "print(f\"1-100中的5个随机数: {sample}\")\n"
   ]
  },
  {
   "cell_type": "raw",
   "metadata": {
    "vscode": {
     "languageId": "raw"
    }
   },
   "source": [
    "## 10.8 日期和时间\n",
    "\n",
    "`datetime` 模块提供了日期和时间处理功能。\n"
   ]
  },
  {
   "cell_type": "code",
   "execution_count": null,
   "metadata": {},
   "outputs": [],
   "source": [
    "# 日期时间演示\n",
    "print(\"\\n=== 日期和时间 ===\")\n",
    "\n",
    "# 当前时间\n",
    "now = datetime.datetime.now()\n",
    "print(f\"当前时间: {now}\")\n",
    "\n",
    "# 格式化日期\n",
    "formatted_date = now.strftime(\"%Y年%m月%d日 %H:%M:%S\")\n",
    "print(f\"格式化日期: {formatted_date}\")\n",
    "\n",
    "# 创建特定日期\n",
    "new_year = datetime.datetime(2024, 1, 1)\n",
    "print(f\"2024年新年: {new_year}\")\n",
    "\n",
    "# 日期计算\n",
    "days_since_new_year = (now - new_year).days\n",
    "print(f\"距离2024年新年已过: {days_since_new_year} 天\")\n",
    "\n",
    "# 时间增减\n",
    "future_date = now + datetime.timedelta(days=30, hours=12)\n",
    "print(f\"30天12小时后: {future_date.strftime('%Y-%m-%d %H:%M')}\")\n",
    "\n",
    "# 解析日期字符串\n",
    "date_str = \"2024-03-15\"\n",
    "parsed_date = datetime.datetime.strptime(date_str, \"%Y-%m-%d\")\n",
    "print(f\"解析日期字符串: {parsed_date}\")\n",
    "\n",
    "# 时间戳\n",
    "timestamp = time.time()\n",
    "print(f\"当前时间戳: {timestamp:.2f}\")\n",
    "print(f\"时间戳转换: {datetime.datetime.fromtimestamp(timestamp)}\")\n"
   ]
  },
  {
   "cell_type": "raw",
   "metadata": {
    "vscode": {
     "languageId": "raw"
    }
   },
   "source": [
    "## 练习任务\n",
    "\n",
    "完成 `exercises/chapter10_standard_library.py` 中的练习：\n",
    "\n",
    "1. `operating_system_interface()` - 操作系统接口\n",
    "2. `file_wildcards_demo()` - 文件通配符\n",
    "3. `string_pattern_matching()` - 正则表达式\n",
    "4. `mathematics_modules()` - 数学模块\n",
    "5. `date_and_time_handling()` - 日期时间处理\n",
    "6. `performance_measurement()` - 性能测量\n",
    "\n",
    "运行测试验证实现：\n",
    "```bash\n",
    "pytest tests/test_chapter10_standard_library.py -v\n",
    "```\n"
   ]
  }
 ],
 "metadata": {
  "kernelspec": {
   "display_name": "Python 3 (ipykernel)",
   "language": "python",
   "name": "python3"
  },
  "language_info": {
   "codemirror_mode": {
    "name": "ipython",
    "version": 3
   },
   "file_extension": ".py",
   "mimetype": "text/x-python",
   "name": "python",
   "nbconvert_exporter": "python",
   "pygments_lexer": "ipython3",
   "version": "3.13.3"
  }
 },
 "nbformat": 4,
 "nbformat_minor": 4
}
