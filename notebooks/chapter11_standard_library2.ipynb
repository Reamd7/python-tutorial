{
  "cells": [
    {
      "cell_type": "raw",
      "metadata": {
        "vscode": {
          "languageId": "raw"
        }
      },
      "source": [
        "# 第11章：标准库概览 - 第二部分\n",
        "\n",
        "本 notebook 基于 Python 官方教程第11章，继续学习标准库的高级功能。\n",
        "\n",
        "## 学习目标\n",
        "\n",
        "- 学习输出格式化和模板\n",
        "- 了解二进制数据记录布局\n",
        "- 掌握多线程和日志\n",
        "- 学习弱引用和工具\n",
        "\n",
        "## 🔗 相关资源\n",
        "\n",
        "- [官方教程第11章](https://docs.python.org/zh-cn/3/tutorial/stdlib2.html)\n",
        "- 练习文件：`exercises/chapter11_standard_library2.py`\n",
        "- 测试文件：`tests/test_chapter11_standard_library2.py`\n"
      ]
    },
    {
      "cell_type": "code",
      "execution_count": null,
      "metadata": {},
      "outputs": [],
      "source": [
        "# 导入练习模块\n",
        "import sys\n",
        "sys.path.append('../')\n",
        "\n",
        "from exercises.chapter11_standard_library2 import *\n"
      ]
    },
    {
      "cell_type": "raw",
      "metadata": {
        "vscode": {
          "languageId": "raw"
        }
      },
      "source": [
        "## 11.1 输出格式\n",
        "\n",
        "Python 提供了多种方式来格式化输出。\n"
      ]
    },
    {
      "cell_type": "code",
      "execution_count": null,
      "metadata": {},
      "outputs": [],
      "source": [
        "# 输出格式化演示\\nprint(\\\"=== 输出格式化演示 ===\\\")\\n\\nimport string\\nfrom decimal import Decimal\\n\\n# repr() 和 pprint 模块\\ndata = {'name': '张三', 'scores': [90, 85, 88], 'info': {'age': 25, 'city': '北京'}}\\nprint(f\\\"原始数据: {data}\\\")\\nprint(f\\\"repr表示: {repr(data)}\\\")\\n\\nimport pprint\\nprint(\\\"\\\\npprint美化输出:\\\")\\npprint.pprint(data, width=40)\\n\\n# textwrap 模块\\nimport textwrap\\nlong_text = \\\"这是一段很长的文本，我们需要将它进行换行处理，以便在指定的宽度内显示。textwrap模块提供了便利的文本格式化功能。\\\"\\nprint(\\\"\\\\n=== 文本换行演示 ===\\\")\\nprint(\\\"原文本:\\\")\\nprint(long_text)\\nprint(\\\"\\\\n换行后:\\\")\\nwrapped = textwrap.fill(long_text, width=30)\\nprint(wrapped)\\n\\n# locale 模块（货币格式化）\\nimport locale\\n\\n# 尝试设置中文环境\\ntry:\\n    locale.setlocale(locale.LC_ALL, 'zh_CN.UTF-8')\\nexcept locale.Error:\\n    try:\\n        locale.setlocale(locale.LC_ALL, 'Chinese')\\n    except locale.Error:\\n        print(\\\"无法设置中文环境，使用默认环境\\\")\\n\\nprint(\\\"\\\\n=== 本地化演示 ===\\\")\\nvalue = 1234567.89\\nprint(f\\\"原始数值: {value}\\\")\\nprint(f\\\"本地化格式: {locale.format_string('%.2f', value, grouping=True)}\\\")\\n\\n# string.Template\\nprint(\\\"\\\\n=== 字符串模板演示 ===\\\")\\ntemplate = string.Template('$name 的成绩是 $score 分')\\nresult = template.substitute(name='李四', score=92)\\nprint(f\\\"模板结果: {result}\\\")\\n\\n# 安全替换\\ntemplate2 = string.Template('姓名: $name, 年龄: $age, 城市: $city')\\nresult2 = template2.safe_substitute(name='王五', age=30)\\nprint(f\\\"安全替换: {result2}\\\")\"\n"
      ]
    },
    {
      "cell_type": "raw",
      "metadata": {
        "vscode": {
          "languageId": "raw"
        }
      },
      "source": [
        "## 11.2 使用二进制数据记录布局\n",
        "\n",
        "struct 模块可以处理二进制数据。\n"
      ]
    },
    {
      "cell_type": "code",
      "execution_count": null,
      "metadata": {},
      "outputs": [],
      "source": [
        "# 二进制数据处理演示\\nprint(\\\"\\\\n=== 二进制数据处理演示 ===\\\")\\n\\nimport struct\\n\\n# 打包数据\\ndata = struct.pack('i4sf', 123, b'spam', 3.14)\\nprint(f\\\"打包后的二进制数据: {data}\\\")\\nprint(f\\\"数据长度: {len(data)} 字节\\\")\\n\\n# 解包数据\\nunpacked = struct.unpack('i4sf', data)\\nprint(f\\\"解包后的数据: {unpacked}\\\")\\n\\n# 处理不同的数据类型\\nprint(\\\"\\\\n不同数据类型示例:\\\")\\nformats = [\\n    ('整数', 'i', 42),\\n    ('浮点数', 'f', 3.14),\\n    ('双精度', 'd', 2.718281828),\\n    ('字符', 'c', b'A'),\\n    ('字符串', '10s', b'hello')\\n]\\n\\nfor name, fmt, value in formats:\\n    packed = struct.pack(fmt, value)\\n    unpacked = struct.unpack(fmt, packed)[0]\\n    print(f\\\"  {name}: {value} -> {packed} -> {unpacked}\\\")\\n\\n# 字节序处理\\nprint(\\\"\\\\n字节序演示:\\\")\\nvalue = 0x12345678\\n\\n# 大端序\\nbig_endian = struct.pack('>I', value)\\nprint(f\\\"大端序: {big_endian.hex()}\\\")\\n\\n# 小端序\\nlittle_endian = struct.pack('<I', value)\\nprint(f\\\"小端序: {little_endian.hex()}\\\")\\n\\n# 系统字节序\\nnative = struct.pack('I', value)\\nprint(f\\\"系统字节序: {native.hex()}\\\")\"\n"
      ]
    },
    {
      "cell_type": "raw",
      "metadata": {
        "vscode": {
          "languageId": "raw"
        }
      },
      "source": [
        "## 11.3 多线程\n",
        "\n",
        "threading 模块支持多线程编程。\n"
      ]
    },
    {
      "cell_type": "code",
      "execution_count": null,
      "metadata": {},
      "outputs": [],
      "source": [
        "# 多线程演示\\nprint(\\\"\\\\n=== 多线程演示 ===\\\")\\n\\nimport threading\\nimport time\\nimport queue\\n\\n# 简单的线程函数\\ndef worker(name, delay):\\n    \\\"\\\"\\\"工作线程函数\\\"\\\"\\\"\\n    print(f\\\"线程 {name} 开始工作\\\")\\n    time.sleep(delay)\\n    print(f\\\"线程 {name} 完成工作\\\")\\n\\n# 创建和启动线程\\nprint(\\\"创建多个工作线程:\\\")\\nthreads = []\\nfor i in range(3):\\n    t = threading.Thread(target=worker, args=(f\\\"Worker-{i+1}\\\", 0.1))\\n    threads.append(t)\\n    t.start()\\n\\n# 等待所有线程完成\\nfor t in threads:\\n    t.join()\\n\\nprint(\\\"所有工作线程完成\\\")\\n\\n# 使用锁进行同步\\nprint(\\\"\\\\n=== 线程同步演示 ===\\\")\\n\\nshared_counter = 0\\nlock = threading.Lock()\\n\\ndef increment_counter(name, count):\\n    \\\"\\\"\\\"增加计数器\\\"\\\"\\\"\\n    global shared_counter\\n    for i in range(count):\\n        with lock:  # 使用锁保护共享资源\\n            current = shared_counter\\n            time.sleep(0.001)  # 模拟处理时间\\n            shared_counter = current + 1\\n    print(f\\\"{name} 完成 {count} 次增量\\\")\\n\\n# 重置计数器\\nshared_counter = 0\\n\\n# 创建多个线程同时修改共享变量\\nsync_threads = []\\nfor i in range(3):\\n    t = threading.Thread(target=increment_counter, args=(f\\\"Thread-{i+1}\\\", 10))\\n    sync_threads.append(t)\\n    t.start()\\n\\nfor t in sync_threads:\\n    t.join()\\n\\nprint(f\\\"最终计数器值: {shared_counter}\\\")\\n\\n# 生产者-消费者模式\\nprint(\\\"\\\\n=== 生产者-消费者模式 ===\\\")\\n\\ndata_queue = queue.Queue(maxsize=5)\\n\\ndef producer(name, items):\\n    \\\"\\\"\\\"生产者\\\"\\\"\\\"\\n    for i in range(items):\\n        item = f\\\"{name}-item-{i+1}\\\"\\n        data_queue.put(item)\\n        print(f\\\"生产者 {name} 生产: {item}\\\")\\n        time.sleep(0.1)\\n    print(f\\\"生产者 {name} 完成\\\")\\n\\ndef consumer(name, items):\\n    \\\"\\\"\\\"消费者\\\"\\\"\\\"\\n    for i in range(items):\\n        item = data_queue.get()\\n        print(f\\\"消费者 {name} 消费: {item}\\\")\\n        data_queue.task_done()\\n        time.sleep(0.15)\\n    print(f\\\"消费者 {name} 完成\\\")\\n\\n# 启动生产者和消费者\\nproducer_thread = threading.Thread(target=producer, args=(\\\"Producer-1\\\", 5))\\nconsumer_thread = threading.Thread(target=consumer, args=(\\\"Consumer-1\\\", 5))\\n\\nproducer_thread.start()\\nconsumer_thread.start()\\n\\nproducer_thread.join()\\nconsumer_thread.join()\\n\\nprint(\\\"生产者-消费者演示完成\\\")\"\n"
      ]
    },
    {
      "cell_type": "raw",
      "metadata": {
        "vscode": {
          "languageId": "raw"
        }
      },
      "source": [
        "## 11.4 日志记录\n",
        "\n",
        "logging 模块提供了灵活的日志记录系统。\n"
      ]
    },
    {
      "cell_type": "code",
      "execution_count": null,
      "metadata": {},
      "outputs": [],
      "source": [
        "# 日志记录演示\\nprint(\\\"\\\\n=== 日志记录演示 ===\\\")\\n\\nimport logging\\nimport tempfile\\nimport os\\n\\n# 基本日志配置\\nlogging.basicConfig(\\n    level=logging.DEBUG,\\n    format='%(asctime)s - %(name)s - %(levelname)s - %(message)s',\\n    datefmt='%Y-%m-%d %H:%M:%S'\\n)\\n\\nlogger = logging.getLogger('demo_logger')\\n\\nprint(\\\"基本日志级别演示:\\\")\\nlogger.debug(\\\"这是调试信息\\\")\\nlogger.info(\\\"这是一般信息\\\")\\nlogger.warning(\\\"这是警告信息\\\")\\nlogger.error(\\\"这是错误信息\\\")\\nlogger.critical(\\\"这是严重错误信息\\\")\\n\\n# 创建文件处理器\\nprint(\\\"\\\\n=== 文件日志演示 ===\\\")\\n\\n# 创建临时文件\\nwith tempfile.NamedTemporaryFile(mode='w', suffix='.log', delete=False) as temp_file:\\n    log_file = temp_file.name\\n\\n# 配置文件日志\\nfile_logger = logging.getLogger('file_logger')\\nfile_logger.setLevel(logging.INFO)\\n\\n# 创建文件处理器\\nfile_handler = logging.FileHandler(log_file)\\nfile_handler.setLevel(logging.INFO)\\n\\n# 创建格式器\\nformatter = logging.Formatter('%(asctime)s - %(name)s - %(levelname)s - %(message)s')\\nfile_handler.setFormatter(formatter)\\n\\n# 添加处理器到日志器\\nfile_logger.addHandler(file_handler)\\n\\n# 记录日志到文件\\nfile_logger.info(\\\"这条信息会写入文件\\\")\\nfile_logger.warning(\\\"这是一个警告\\\")\\nfile_logger.error(\\\"这是一个错误\\\")\\n\\n# 读取并显示日志文件内容\\nprint(f\\\"日志文件内容 ({log_file}):\\\")\\nwith open(log_file, 'r', encoding='utf-8') as f:\\n    content = f.read()\\n    print(content)\\n\\n# 清理临时文件\\nos.unlink(log_file)\\n\\n# 异常日志记录\\nprint(\\\"异常日志记录演示:\\\")\\ntry:\\n    result = 10 / 0\\nexcept ZeroDivisionError:\\n    logger.exception(\\\"除零错误发生\\\")\\n\\n# 自定义日志器层次结构\\nparent_logger = logging.getLogger('myapp')\\nchild_logger = logging.getLogger('myapp.database')\\ngrandchild_logger = logging.getLogger('myapp.database.connection')\\n\\nparent_logger.setLevel(logging.INFO)\\nchild_logger.info(\\\"数据库操作日志\\\")\\ngrandchild_logger.info(\\\"数据库连接日志\\\")\"\n"
      ]
    },
    {
      "cell_type": "raw",
      "metadata": {
        "vscode": {
          "languageId": "raw"
        }
      },
      "source": [
        "## 练习任务\n",
        "\n",
        "完成 `exercises/chapter11_standard_library2.py` 中的练习：\n",
        "\n",
        "1. `output_formatting()` - 输出格式化\n",
        "2. `template_demo()` - 字符串模板\n",
        "3. `binary_data_demo()` - 二进制数据处理\n",
        "4. `threading_demo()` - 多线程示例\n",
        "5. `logging_demo()` - 日志记录\n",
        "\n",
        "运行测试验证实现：\n",
        "```bash\n",
        "pytest tests/test_chapter11_standard_library2.py -v\n",
        "```\n"
      ]
    }
  ],
  "metadata": {
    "language_info": {
      "name": "python"
    }
  },
  "nbformat": 4,
  "nbformat_minor": 2
}
