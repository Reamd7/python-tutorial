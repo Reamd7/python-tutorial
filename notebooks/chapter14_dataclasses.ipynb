{
  "cells": [
    {
      "cell_type": "raw",
      "metadata": {
        "vscode": {
          "languageId": "raw"
        }
      },
      "source": [
        "# 第14章：数据类 (Dataclasses)\n",
        "## Dataclasses and Modern Data Handling\n",
        "\n",
        "本笔记介绍 Python 数据类，这是 Python 3.7+ 引入的强大特性，用于简化数据容器类的创建。\n",
        "\n",
        "### 学习目标\n",
        "- 理解 @dataclass 装饰器的作用\n",
        "- 掌握字段定义和默认值设置\n",
        "- 学习数据验证和后处理方法\n",
        "- 比较数据类与传统类的差异\n",
        "\n",
        "### 数据类的优势\n",
        "- **减少样板代码**: 自动生成 `__init__`, `__repr__`, `__eq__` 等方法\n",
        "- **类型安全**: 结合类型提示使用\n",
        "- **可读性强**: 声明式的字段定义\n",
        "- **功能丰富**: 支持默认值、验证、序列化等\n"
      ]
    }
  ],
  "metadata": {
    "language_info": {
      "name": "python"
    }
  },
  "nbformat": 4,
  "nbformat_minor": 2
}
